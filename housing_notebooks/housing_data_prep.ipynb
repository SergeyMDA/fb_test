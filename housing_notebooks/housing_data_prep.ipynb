{
 "cells": [
  {
   "cell_type": "code",
   "execution_count": 1,
   "metadata": {},
   "outputs": [],
   "source": [
    "import copy\n",
    "import pandas as pd\n",
    "import numpy as np\n",
    "from datetime import datetime\n",
    "\n",
    "import nltk\n",
    "from sklearn.linear_model import SGDClassifier\n",
    "from sklearn.feature_extraction.text import CountVectorizer, TfidfTransformer\n",
    "from sklearn.model_selection import train_test_split\n",
    "from sklearn.metrics import accuracy_score\n",
    "\n",
    "from libs.MongoConnect import MongoConnect\n",
    "from libs.conf import *\n",
    "\n",
    "collector = MongoConnect(MONGO_GREEN_IP + ':' + str(MONGO_GREEN_PORT), 'visitor', 'fb_adverts')"
   ]
  },
  {
   "cell_type": "code",
   "execution_count": 2,
   "metadata": {},
   "outputs": [],
   "source": [
    "cursor = collector.collection.find({})\n",
    "ds = list()\n",
    "for doc in cursor:\n",
    "    ds.append(doc)\n",
    "df = pd.DataFrame(ds)"
   ]
  },
  {
   "cell_type": "markdown",
   "metadata": {},
   "source": [
    "#### text processing"
   ]
  },
  {
   "cell_type": "code",
   "execution_count": 3,
   "metadata": {},
   "outputs": [],
   "source": [
    "tokenizer = nltk.tokenize.WordPunctTokenizer()\n",
    "df['origial_text'] = df.text\n",
    "df['text'] = df.text.apply(lambda row: ' '.join(tokenizer.tokenize(str(row).lower())))"
   ]
  },
  {
   "cell_type": "markdown",
   "metadata": {},
   "source": [
    "#### date processing"
   ]
  },
  {
   "cell_type": "code",
   "execution_count": 4,
   "metadata": {},
   "outputs": [],
   "source": [
    "def add_date_parts(df, date_column= 'published'):\n",
    "    df['hour'] = df[date_column].dt.hour\n",
    "    df['month'] = df[date_column].dt.month\n",
    "    df['weekday'] = df[date_column].dt.weekday\n",
    "    df['year'] = df[date_column].dt.year\n",
    "    df['week'] = df[date_column].dt.week\n",
    "    df['month_day'] = df[date_column].dt.day"
   ]
  },
  {
   "cell_type": "code",
   "execution_count": 5,
   "metadata": {},
   "outputs": [],
   "source": [
    "df.time = df.time.apply(lambda ts: datetime.utcfromtimestamp(ts).strftime('%Y-%m-%d %H:%M:%S'))\n",
    "df.time = pd.to_datetime(df.time, format='%Y-%m-%d %H:%M:%S')\n",
    "add_date_parts(df, 'time')"
   ]
  },
  {
   "cell_type": "markdown",
   "metadata": {},
   "source": [
    "#### stuff processing"
   ]
  },
  {
   "cell_type": "code",
   "execution_count": 6,
   "metadata": {},
   "outputs": [],
   "source": [
    "df['was_photo'] = (df.photos.str.len() != 0)\n",
    "df['was_link'] = df.outer_link.notna()\n",
    "df.write_to_seller = (df.write_to_seller == 'Message Seller')"
   ]
  },
  {
   "cell_type": "markdown",
   "metadata": {},
   "source": [
    "#### location processing"
   ]
  },
  {
   "cell_type": "code",
   "execution_count": 7,
   "metadata": {},
   "outputs": [],
   "source": [
    "df['location'] = df['location'].str.split(',').str[0] # get rid of the state"
   ]
  },
  {
   "cell_type": "code",
   "execution_count": 8,
   "metadata": {},
   "outputs": [],
   "source": [
    "df.loc[df['location'] == 'Boston', 'location'] = None"
   ]
  },
  {
   "cell_type": "markdown",
   "metadata": {},
   "source": [
    "#### saving"
   ]
  },
  {
   "cell_type": "code",
   "execution_count": 9,
   "metadata": {},
   "outputs": [],
   "source": [
    "DATA_PATH = '../data/'\n",
    "clean_df = df.drop(['link', 'author', 'outer_link', 'photos', 'time'], axis=1)\n",
    "clean_df.to_feather(DATA_PATH + 'housing_clean')"
   ]
  }
 ],
 "metadata": {
  "kernelspec": {
   "display_name": "Python 3",
   "language": "python",
   "name": "python3"
  },
  "language_info": {
   "codemirror_mode": {
    "name": "ipython",
    "version": 3
   },
   "file_extension": ".py",
   "mimetype": "text/x-python",
   "name": "python",
   "nbconvert_exporter": "python",
   "pygments_lexer": "ipython3",
   "version": "3.6.6"
  }
 },
 "nbformat": 4,
 "nbformat_minor": 2
}
