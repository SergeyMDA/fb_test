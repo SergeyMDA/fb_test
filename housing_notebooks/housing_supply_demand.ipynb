{
 "cells": [
  {
   "cell_type": "code",
   "execution_count": 31,
   "metadata": {},
   "outputs": [],
   "source": [
    "import copy\n",
    "import pandas as pd\n",
    "import numpy as np\n",
    "import feather\n",
    "import pickle\n",
    "\n",
    "from sklearn.linear_model import SGDClassifier\n",
    "from sklearn.feature_extraction.text import CountVectorizer, TfidfTransformer\n",
    "from sklearn.model_selection import train_test_split\n",
    "from sklearn.metrics import accuracy_score\n",
    "from scipy.sparse import csr_matrix, hstack\n",
    "from sklearn.preprocessing import StandardScaler\n",
    "\n",
    "import warnings\n",
    "warnings.filterwarnings('ignore')\n",
    "pd.set_option('display.max_colwidth', 100)"
   ]
  },
  {
   "cell_type": "code",
   "execution_count": 4,
   "metadata": {},
   "outputs": [],
   "source": [
    "DATA_PATH = '../data/'\n",
    "MODELS_PATH = '../models/'\n",
    "df =  feather.read_dataframe(DATA_PATH +'housing_clean')\n",
    "df['text_len'] = df.text.str.len()"
   ]
  },
  {
   "cell_type": "markdown",
   "metadata": {},
   "source": [
    "Alpaca seems to be the most managed group, without much noise"
   ]
  },
  {
   "cell_type": "code",
   "execution_count": 5,
   "metadata": {},
   "outputs": [],
   "source": [
    "alpaca_df = df[df.group =='https://www.facebook.com/groups/673389662794979/']"
   ]
  },
  {
   "cell_type": "code",
   "execution_count": 6,
   "metadata": {},
   "outputs": [],
   "source": [
    "supply = alpaca_df[(alpaca_df.write_to_seller == True) | (alpaca_df.was_link == True) | (alpaca_df.was_photo == True)]"
   ]
  },
  {
   "cell_type": "code",
   "execution_count": 7,
   "metadata": {},
   "outputs": [
    {
     "name": "stdout",
     "output_type": "stream",
     "text": [
      "total posts - 1181\n",
      "supposedly supply - 557\n"
     ]
    }
   ],
   "source": [
    "print(f'total posts - {alpaca_df.shape[0]}')\n",
    "print(f'supposedly supply - {supply.shape[0]}')"
   ]
  },
  {
   "cell_type": "markdown",
   "metadata": {},
   "source": [
    "If there are photos or links (craiglist) or \"Message Seller\" we'll count it as \"supply\""
   ]
  },
  {
   "cell_type": "code",
   "execution_count": 8,
   "metadata": {},
   "outputs": [
    {
     "data": {
      "text/plain": [
       "(557, 16)"
      ]
     },
     "execution_count": 8,
     "metadata": {},
     "output_type": "execute_result"
    }
   ],
   "source": [
    "alpaca_df[(alpaca_df.write_to_seller == True) | (alpaca_df.was_link == True) | (alpaca_df.was_photo == True)].shape"
   ]
  },
  {
   "cell_type": "code",
   "execution_count": 9,
   "metadata": {},
   "outputs": [],
   "source": [
    "alpaca_df.loc[(alpaca_df.write_to_seller == True) | (alpaca_df.was_link == True) | (alpaca_df.was_photo == True),'supply'] = True\n",
    "alpaca_df.loc[alpaca_df.supply != True, 'supply'] = False"
   ]
  },
  {
   "cell_type": "code",
   "execution_count": 10,
   "metadata": {},
   "outputs": [
    {
     "data": {
      "text/plain": [
       "2429    we rent an apartment in lawrence next to andover . more information by inbox . se renta un apart...\n",
       "2849    hello everyone ! i ’ m looking for an apartment in or around boston for january 1st . my budget ...\n",
       "370     i ’ m looking to rent a room starting february / march preferably in allston , brighton , or bro...\n",
       "2512    hi , i ’ m a medical student looking for a room near brigham for the month of january . please l...\n",
       "2902    hey looking for a private or shared room with a girl near beth israel deaconess medical center h...\n",
       "781     looking for a room with 1 - 3 roommates preferably in or around the fenway - kenmore , columbus ...\n",
       "1742    hello ! i am a 23y / o female searching for a private room in a shared apt . with a lease starti...\n",
       "1945    hi all , i ' m looking for a private room sublet with washer / dryer in unit and a maximum of 1 ...\n",
       "84      hello , i am looking for a place to stay from feb 1st till may 15th 2019 . preferably a one bedr...\n",
       "1600    hi ! my name is heather and i am an undergraduate student from nj that will be interning in the ...\n",
       "Name: text, dtype: object"
      ]
     },
     "execution_count": 10,
     "metadata": {},
     "output_type": "execute_result"
    }
   ],
   "source": [
    "alpaca_df[alpaca_df.supply == False].text.sample(10)"
   ]
  },
  {
   "cell_type": "code",
   "execution_count": 11,
   "metadata": {},
   "outputs": [
    {
     "data": {
      "text/plain": [
       "349.9519230769231"
      ]
     },
     "execution_count": 11,
     "metadata": {},
     "output_type": "execute_result"
    }
   ],
   "source": [
    "alpaca_df[alpaca_df.supply == False].text.str.len().mean()"
   ]
  },
  {
   "cell_type": "code",
   "execution_count": 12,
   "metadata": {},
   "outputs": [
    {
     "data": {
      "text/plain": [
       "633.8509874326751"
      ]
     },
     "execution_count": 12,
     "metadata": {},
     "output_type": "execute_result"
    }
   ],
   "source": [
    "alpaca_df[alpaca_df.supply == True].text.str.len().mean()"
   ]
  },
  {
   "cell_type": "code",
   "execution_count": 13,
   "metadata": {},
   "outputs": [],
   "source": [
    "alpaca_df['text_len'] = alpaca_df.text.str.len()"
   ]
  },
  {
   "cell_type": "code",
   "execution_count": 14,
   "metadata": {},
   "outputs": [],
   "source": [
    "cv_text = CountVectorizer(ngram_range=(1, 4), min_df=5)\n",
    "tfidf = TfidfTransformer()\n",
    "\n",
    "text_len_scaler = StandardScaler()\n",
    "all_text = list(alpaca_df['text'].values)\n",
    "all_text = cv_text.fit_transform(all_text)\n",
    "all_text = tfidf.fit_transform(all_text)\n",
    "scaled_len = text_len_scaler.fit_transform(alpaca_df['text_len'].values.reshape(-1, 1))"
   ]
  },
  {
   "cell_type": "code",
   "execution_count": 15,
   "metadata": {},
   "outputs": [],
   "source": [
    "X = hstack([all_text, scaled_len]).tocsr()\n",
    "y = alpaca_df.supply\n",
    "\n",
    "train_part_size = int(0.7 * y.shape[0])\n",
    "X_train = X[:train_part_size, :]\n",
    "y_train = y[:train_part_size]\n",
    "X_valid =  X[train_part_size:, :]\n",
    "y_valid = y[train_part_size:]\n",
    "df_train = alpaca_df[:train_part_size]\n",
    "df_valid = alpaca_df[train_part_size:]"
   ]
  },
  {
   "cell_type": "code",
   "execution_count": 16,
   "metadata": {},
   "outputs": [
    {
     "data": {
      "text/plain": [
       "0.8873239436619719"
      ]
     },
     "execution_count": 16,
     "metadata": {},
     "output_type": "execute_result"
    }
   ],
   "source": [
    "model = SGDClassifier(random_state=17)\n",
    "model.fit(X_train, y_train)\n",
    "model_test_pred = model.predict(X_valid)\n",
    "accuracy_score(model_test_pred, y_valid)"
   ]
  },
  {
   "cell_type": "code",
   "execution_count": 17,
   "metadata": {},
   "outputs": [
    {
     "data": {
      "text/html": [
       "<div>\n",
       "<style scoped>\n",
       "    .dataframe tbody tr th:only-of-type {\n",
       "        vertical-align: middle;\n",
       "    }\n",
       "\n",
       "    .dataframe tbody tr th {\n",
       "        vertical-align: top;\n",
       "    }\n",
       "\n",
       "    .dataframe thead th {\n",
       "        text-align: right;\n",
       "    }\n",
       "</style>\n",
       "<table border=\"1\" class=\"dataframe\">\n",
       "  <thead>\n",
       "    <tr style=\"text-align: right;\">\n",
       "      <th></th>\n",
       "      <th>text</th>\n",
       "      <th>supply</th>\n",
       "    </tr>\n",
       "  </thead>\n",
       "  <tbody>\n",
       "    <tr>\n",
       "      <th>2310</th>\n",
       "      <td>hey ! looking for a roommate in a three bedroom apartment in oak square , brighton , ma . we are...</td>\n",
       "      <td>False</td>\n",
       "    </tr>\n",
       "    <tr>\n",
       "      <th>2401</th>\n",
       "      <td>hello ! i know this is super last minute , but i am looking for someone to take over my lease fr...</td>\n",
       "      <td>True</td>\n",
       "    </tr>\n",
       "    <tr>\n",
       "      <th>2422</th>\n",
       "      <td>hello all ! i am looking for a roommate to fill a spot in cambridge ! please reach out to me dir...</td>\n",
       "      <td>False</td>\n",
       "    </tr>\n",
       "    <tr>\n",
       "      <th>2428</th>\n",
       "      <td>looking for someone to * sublease or take over lease * starting january or february 2019 ! $ 830...</td>\n",
       "      <td>True</td>\n",
       "    </tr>\n",
       "    <tr>\n",
       "      <th>2431</th>\n",
       "      <td>hi , i am a graduate student in longwood looking for a tidy , respectful roommate starting july ...</td>\n",
       "      <td>True</td>\n",
       "    </tr>\n",
       "    <tr>\n",
       "      <th>2450</th>\n",
       "      <td>hi this isn ’ t regarding apartments but selling 2 snoop dog tix for tomorrow 1 / 4 at the grand...</td>\n",
       "      <td>True</td>\n",
       "    </tr>\n",
       "    <tr>\n",
       "      <th>2547</th>\n",
       "      <td>subletting my room in a 4bed 2 . 5bath house . it ' s 2 min walk to forest hills t stop . rent i...</td>\n",
       "      <td>True</td>\n",
       "    </tr>\n",
       "    <tr>\n",
       "      <th>2552</th>\n",
       "      <td>looking for one occupant for a 1bhk ( 770 sqft ) at st . germain street , boston until 30th june...</td>\n",
       "      <td>False</td>\n",
       "    </tr>\n",
       "    <tr>\n",
       "      <th>2555</th>\n",
       "      <td>looking for one occupant for a 1bhk ( 770 sqft ) at st . germain street , boston until 30th june...</td>\n",
       "      <td>False</td>\n",
       "    </tr>\n",
       "    <tr>\n",
       "      <th>2592</th>\n",
       "      <td>looking for one occupant for a 1bhk ( 770 sqft ) at st . germain street , boston until 30th june...</td>\n",
       "      <td>False</td>\n",
       "    </tr>\n",
       "    <tr>\n",
       "      <th>2603</th>\n",
       "      <td>room available in quincy february 1st . $ 515 plus utilities . we ’ re 2 young professional fema...</td>\n",
       "      <td>True</td>\n",
       "    </tr>\n",
       "    <tr>\n",
       "      <th>2617</th>\n",
       "      <td>hi everyone ! looking to fill a room in my two bed apt in dorchester ( neponset area ). $ 825 a ...</td>\n",
       "      <td>True</td>\n",
       "    </tr>\n",
       "    <tr>\n",
       "      <th>2621</th>\n",
       "      <td>welcome to alpaca ’ s official boston housing group ! to join , click '+ join group ' and you wi...</td>\n",
       "      <td>False</td>\n",
       "    </tr>\n",
       "    <tr>\n",
       "      <th>2624</th>\n",
       "      <td>hi ! i have an open bedroom in an apartment in beverly . awesome location , walk to downtown and...</td>\n",
       "      <td>False</td>\n",
       "    </tr>\n",
       "    <tr>\n",
       "      <th>2728</th>\n",
       "      <td>sunny , good sized bedroom , 2 windows , closet in clean , modern , updated townhouse with 2 oth...</td>\n",
       "      <td>False</td>\n",
       "    </tr>\n",
       "    <tr>\n",
       "      <th>2730</th>\n",
       "      <td>single / double availability at 35 greycliff road . hello ! i ’ m looking to sublet a large room...</td>\n",
       "      <td>True</td>\n",
       "    </tr>\n",
       "    <tr>\n",
       "      <th>2762</th>\n",
       "      <td>due to work concerns , i need to leave boston , and i ' m looking for someone to take my room . ...</td>\n",
       "      <td>False</td>\n",
       "    </tr>\n",
       "    <tr>\n",
       "      <th>2789</th>\n",
       "      <td>permanent accommodation available for a boy / girl in cambridge , massachusetts looking for some...</td>\n",
       "      <td>True</td>\n",
       "    </tr>\n",
       "    <tr>\n",
       "      <th>2804</th>\n",
       "      <td>looking for 1 roommate asap ! january 1st move in hello , i ' m looking for someone to take over...</td>\n",
       "      <td>True</td>\n",
       "    </tr>\n",
       "    <tr>\n",
       "      <th>2832</th>\n",
       "      <td>it is located in the vicinity of mass ave in arlington . it has good public security , convenien...</td>\n",
       "      <td>True</td>\n",
       "    </tr>\n",
       "    <tr>\n",
       "      <th>2834</th>\n",
       "      <td>looking to sublease my apartment 1 bed in a 2br apartment room can be furnished or unfurnished m...</td>\n",
       "      <td>True</td>\n",
       "    </tr>\n",
       "    <tr>\n",
       "      <th>2841</th>\n",
       "      <td>room to sublease in brookline village ! $ 1 , 200 furnished room in 3bd / 1ba apartment , laundr...</td>\n",
       "      <td>True</td>\n",
       "    </tr>\n",
       "    <tr>\n",
       "      <th>2842</th>\n",
       "      <td>please call wendy 781 - 805 - 0201 it is located in the vicinity of mass ave in arlington . it h...</td>\n",
       "      <td>True</td>\n",
       "    </tr>\n",
       "    <tr>\n",
       "      <th>2844</th>\n",
       "      <td>room for rent in arlington , malden , watertown</td>\n",
       "      <td>False</td>\n",
       "    </tr>\n",
       "    <tr>\n",
       "      <th>2864</th>\n",
       "      <td></td>\n",
       "      <td>True</td>\n",
       "    </tr>\n",
       "    <tr>\n",
       "      <th>2908</th>\n",
       "      <td>anyone has room available in canton , ma ??</td>\n",
       "      <td>False</td>\n",
       "    </tr>\n",
       "    <tr>\n",
       "      <th>2923</th>\n",
       "      <td>09 / 01 move - in for brookline apartment . please be our roommate . we are 2 professional femal...</td>\n",
       "      <td>True</td>\n",
       "    </tr>\n",
       "    <tr>\n",
       "      <th>2950</th>\n",
       "      <td>sublet availabe in somerville moving out of boston , looking to sublet ( with option to renew ) ...</td>\n",
       "      <td>False</td>\n",
       "    </tr>\n",
       "    <tr>\n",
       "      <th>2954</th>\n",
       "      <td>hello i have a small room in east boston is available and we are looking for responsible and cle...</td>\n",
       "      <td>False</td>\n",
       "    </tr>\n",
       "    <tr>\n",
       "      <th>2956</th>\n",
       "      <td>hi ! i ' m looking for a short term sublet for around 1 month ( max . 2 months ) in the cambridg...</td>\n",
       "      <td>True</td>\n",
       "    </tr>\n",
       "    <tr>\n",
       "      <th>2960</th>\n",
       "      <td>sub - lease from march through end of august hi ! i ’ m looking for someone to take over my leas...</td>\n",
       "      <td>False</td>\n",
       "    </tr>\n",
       "    <tr>\n",
       "      <th>2965</th>\n",
       "      <td>hi ! i ' m looking for a short term sublet for around 1 month ( max . 2 months ) in the cambridg...</td>\n",
       "      <td>True</td>\n",
       "    </tr>\n",
       "    <tr>\n",
       "      <th>2978</th>\n",
       "      <td>hi ! i leave for europe feb 12th and will be gone for 2 months . my landlord has given me permis...</td>\n",
       "      <td>False</td>\n",
       "    </tr>\n",
       "    <tr>\n",
       "      <th>2980</th>\n",
       "      <td>( repost ) room available for $ 1750 / month : looking for a female to take over the master room...</td>\n",
       "      <td>True</td>\n",
       "    </tr>\n",
       "    <tr>\n",
       "      <th>3051</th>\n",
       "      <td>two law students looking to fill an unfurnished bedroom in a 3bed / 1bath in east boston by feb ...</td>\n",
       "      <td>True</td>\n",
       "    </tr>\n",
       "    <tr>\n",
       "      <th>3063</th>\n",
       "      <td>hi all ! i have a room immediately available in a 3rd / 1 bath uphams corner , dorchester . my r...</td>\n",
       "      <td>False</td>\n",
       "    </tr>\n",
       "    <tr>\n",
       "      <th>3074</th>\n",
       "      <td>need someone to move in asap for sublease .. 1 room in somerville for $ 850 which includes utili...</td>\n",
       "      <td>False</td>\n",
       "    </tr>\n",
       "    <tr>\n",
       "      <th>3084</th>\n",
       "      <td>hello ! i am a cookbook author and food writer / photographer from austin , tx looking for a sho...</td>\n",
       "      <td>False</td>\n",
       "    </tr>\n",
       "    <tr>\n",
       "      <th>3116</th>\n",
       "      <td>room in 3 br / 1 ba apt in everett available in feb ! my roommate and i are looking for a female...</td>\n",
       "      <td>False</td>\n",
       "    </tr>\n",
       "    <tr>\n",
       "      <th>3616</th>\n",
       "      <td>looking to sublet a private room and a large size living room starting feb 1st in brighton near ...</td>\n",
       "      <td>True</td>\n",
       "    </tr>\n",
       "  </tbody>\n",
       "</table>\n",
       "</div>"
      ],
      "text/plain": [
       "                                                                                                     text  \\\n",
       "2310  hey ! looking for a roommate in a three bedroom apartment in oak square , brighton , ma . we are...   \n",
       "2401  hello ! i know this is super last minute , but i am looking for someone to take over my lease fr...   \n",
       "2422  hello all ! i am looking for a roommate to fill a spot in cambridge ! please reach out to me dir...   \n",
       "2428  looking for someone to * sublease or take over lease * starting january or february 2019 ! $ 830...   \n",
       "2431  hi , i am a graduate student in longwood looking for a tidy , respectful roommate starting july ...   \n",
       "2450  hi this isn ’ t regarding apartments but selling 2 snoop dog tix for tomorrow 1 / 4 at the grand...   \n",
       "2547  subletting my room in a 4bed 2 . 5bath house . it ' s 2 min walk to forest hills t stop . rent i...   \n",
       "2552  looking for one occupant for a 1bhk ( 770 sqft ) at st . germain street , boston until 30th june...   \n",
       "2555  looking for one occupant for a 1bhk ( 770 sqft ) at st . germain street , boston until 30th june...   \n",
       "2592  looking for one occupant for a 1bhk ( 770 sqft ) at st . germain street , boston until 30th june...   \n",
       "2603  room available in quincy february 1st . $ 515 plus utilities . we ’ re 2 young professional fema...   \n",
       "2617  hi everyone ! looking to fill a room in my two bed apt in dorchester ( neponset area ). $ 825 a ...   \n",
       "2621  welcome to alpaca ’ s official boston housing group ! to join , click '+ join group ' and you wi...   \n",
       "2624  hi ! i have an open bedroom in an apartment in beverly . awesome location , walk to downtown and...   \n",
       "2728  sunny , good sized bedroom , 2 windows , closet in clean , modern , updated townhouse with 2 oth...   \n",
       "2730  single / double availability at 35 greycliff road . hello ! i ’ m looking to sublet a large room...   \n",
       "2762  due to work concerns , i need to leave boston , and i ' m looking for someone to take my room . ...   \n",
       "2789  permanent accommodation available for a boy / girl in cambridge , massachusetts looking for some...   \n",
       "2804  looking for 1 roommate asap ! january 1st move in hello , i ' m looking for someone to take over...   \n",
       "2832  it is located in the vicinity of mass ave in arlington . it has good public security , convenien...   \n",
       "2834  looking to sublease my apartment 1 bed in a 2br apartment room can be furnished or unfurnished m...   \n",
       "2841  room to sublease in brookline village ! $ 1 , 200 furnished room in 3bd / 1ba apartment , laundr...   \n",
       "2842  please call wendy 781 - 805 - 0201 it is located in the vicinity of mass ave in arlington . it h...   \n",
       "2844                                                      room for rent in arlington , malden , watertown   \n",
       "2864                                                                                                        \n",
       "2908                                                          anyone has room available in canton , ma ??   \n",
       "2923  09 / 01 move - in for brookline apartment . please be our roommate . we are 2 professional femal...   \n",
       "2950  sublet availabe in somerville moving out of boston , looking to sublet ( with option to renew ) ...   \n",
       "2954  hello i have a small room in east boston is available and we are looking for responsible and cle...   \n",
       "2956  hi ! i ' m looking for a short term sublet for around 1 month ( max . 2 months ) in the cambridg...   \n",
       "2960  sub - lease from march through end of august hi ! i ’ m looking for someone to take over my leas...   \n",
       "2965  hi ! i ' m looking for a short term sublet for around 1 month ( max . 2 months ) in the cambridg...   \n",
       "2978  hi ! i leave for europe feb 12th and will be gone for 2 months . my landlord has given me permis...   \n",
       "2980  ( repost ) room available for $ 1750 / month : looking for a female to take over the master room...   \n",
       "3051  two law students looking to fill an unfurnished bedroom in a 3bed / 1bath in east boston by feb ...   \n",
       "3063  hi all ! i have a room immediately available in a 3rd / 1 bath uphams corner , dorchester . my r...   \n",
       "3074  need someone to move in asap for sublease .. 1 room in somerville for $ 850 which includes utili...   \n",
       "3084  hello ! i am a cookbook author and food writer / photographer from austin , tx looking for a sho...   \n",
       "3116  room in 3 br / 1 ba apt in everett available in feb ! my roommate and i are looking for a female...   \n",
       "3616  looking to sublet a private room and a large size living room starting feb 1st in brighton near ...   \n",
       "\n",
       "      supply  \n",
       "2310   False  \n",
       "2401    True  \n",
       "2422   False  \n",
       "2428    True  \n",
       "2431    True  \n",
       "2450    True  \n",
       "2547    True  \n",
       "2552   False  \n",
       "2555   False  \n",
       "2592   False  \n",
       "2603    True  \n",
       "2617    True  \n",
       "2621   False  \n",
       "2624   False  \n",
       "2728   False  \n",
       "2730    True  \n",
       "2762   False  \n",
       "2789    True  \n",
       "2804    True  \n",
       "2832    True  \n",
       "2834    True  \n",
       "2841    True  \n",
       "2842    True  \n",
       "2844   False  \n",
       "2864    True  \n",
       "2908   False  \n",
       "2923    True  \n",
       "2950   False  \n",
       "2954   False  \n",
       "2956    True  \n",
       "2960   False  \n",
       "2965    True  \n",
       "2978   False  \n",
       "2980    True  \n",
       "3051    True  \n",
       "3063   False  \n",
       "3074   False  \n",
       "3084   False  \n",
       "3116   False  \n",
       "3616    True  "
      ]
     },
     "execution_count": 17,
     "metadata": {},
     "output_type": "execute_result"
    }
   ],
   "source": [
    "df_valid[y_valid != model_test_pred][['text', 'supply']]"
   ]
  },
  {
   "cell_type": "code",
   "execution_count": 18,
   "metadata": {},
   "outputs": [
    {
     "name": "stdout",
     "output_type": "stream",
     "text": [
      "0.9891041162227603\n"
     ]
    },
    {
     "data": {
      "text/html": [
       "<div>\n",
       "<style scoped>\n",
       "    .dataframe tbody tr th:only-of-type {\n",
       "        vertical-align: middle;\n",
       "    }\n",
       "\n",
       "    .dataframe tbody tr th {\n",
       "        vertical-align: top;\n",
       "    }\n",
       "\n",
       "    .dataframe thead th {\n",
       "        text-align: right;\n",
       "    }\n",
       "</style>\n",
       "<table border=\"1\" class=\"dataframe\">\n",
       "  <thead>\n",
       "    <tr style=\"text-align: right;\">\n",
       "      <th></th>\n",
       "      <th>text</th>\n",
       "      <th>supply</th>\n",
       "    </tr>\n",
       "  </thead>\n",
       "  <tbody>\n",
       "    <tr>\n",
       "      <th>236</th>\n",
       "      <td>hey everyone , i ' m looking for a roommate in my 2 - bedroom belmont apartment . the room is av...</td>\n",
       "      <td>True</td>\n",
       "    </tr>\n",
       "    <tr>\n",
       "      <th>692</th>\n",
       "      <td>hello ! i have one bedroom available in 3bedroom 1bathroom apartment in dorchester . the apartme...</td>\n",
       "      <td>False</td>\n",
       "    </tr>\n",
       "    <tr>\n",
       "      <th>1011</th>\n",
       "      <td></td>\n",
       "      <td>True</td>\n",
       "    </tr>\n",
       "    <tr>\n",
       "      <th>1444</th>\n",
       "      <td>hello , we have a fully furnished room available for short term rent ( 1 month to 8 months ) in ...</td>\n",
       "      <td>True</td>\n",
       "    </tr>\n",
       "    <tr>\n",
       "      <th>1452</th>\n",
       "      <td></td>\n",
       "      <td>True</td>\n",
       "    </tr>\n",
       "    <tr>\n",
       "      <th>1706</th>\n",
       "      <td></td>\n",
       "      <td>True</td>\n",
       "    </tr>\n",
       "    <tr>\n",
       "      <th>1816</th>\n",
       "      <td>there - looking for a roommate in a three bedroom apartment in oak square , brighton , ma . we a...</td>\n",
       "      <td>False</td>\n",
       "    </tr>\n",
       "    <tr>\n",
       "      <th>2202</th>\n",
       "      <td>newton 近绿线d 地铁站房间出租从2 ⃣️🈷️ 份开始 ， 全美最安全的区之一 ， 步行2 ⃣️ 分钟到地铁站 ， 5 ⃣️ 分钟内各种风味美食 ， 邮局银行 ， 24小时7 / 11 ...</td>\n",
       "      <td>True</td>\n",
       "    </tr>\n",
       "    <tr>\n",
       "      <th>2281</th>\n",
       "      <td>hi everyone ! i have worked my butt off to save up money for a trip to europe with my best frien...</td>\n",
       "      <td>False</td>\n",
       "    </tr>\n",
       "  </tbody>\n",
       "</table>\n",
       "</div>"
      ],
      "text/plain": [
       "                                                                                                     text  \\\n",
       "236   hey everyone , i ' m looking for a roommate in my 2 - bedroom belmont apartment . the room is av...   \n",
       "692   hello ! i have one bedroom available in 3bedroom 1bathroom apartment in dorchester . the apartme...   \n",
       "1011                                                                                                        \n",
       "1444  hello , we have a fully furnished room available for short term rent ( 1 month to 8 months ) in ...   \n",
       "1452                                                                                                        \n",
       "1706                                                                                                        \n",
       "1816  there - looking for a roommate in a three bedroom apartment in oak square , brighton , ma . we a...   \n",
       "2202  newton 近绿线d 地铁站房间出租从2 ⃣️🈷️ 份开始 ， 全美最安全的区之一 ， 步行2 ⃣️ 分钟到地铁站 ， 5 ⃣️ 分钟内各种风味美食 ， 邮局银行 ， 24小时7 / 11 ...   \n",
       "2281  hi everyone ! i have worked my butt off to save up money for a trip to europe with my best frien...   \n",
       "\n",
       "      supply  \n",
       "236     True  \n",
       "692    False  \n",
       "1011    True  \n",
       "1444    True  \n",
       "1452    True  \n",
       "1706    True  \n",
       "1816   False  \n",
       "2202    True  \n",
       "2281   False  "
      ]
     },
     "execution_count": 18,
     "metadata": {},
     "output_type": "execute_result"
    }
   ],
   "source": [
    "model_test_pred = model.predict(X_train)\n",
    "print(accuracy_score(model_test_pred, y_train))\n",
    "df_train[y_train != model_test_pred][['text', 'supply']]"
   ]
  },
  {
   "cell_type": "markdown",
   "metadata": {},
   "source": [
    "We clearly see that we got decent amount of predictions that were \"misclassified\" but actually correct. At this point we have to do some manual dataset preparation with support of this \"errors\"."
   ]
  },
  {
   "cell_type": "markdown",
   "metadata": {},
   "source": [
    "Train on whole ds."
   ]
  },
  {
   "cell_type": "code",
   "execution_count": 19,
   "metadata": {},
   "outputs": [
    {
     "data": {
      "text/plain": [
       "SGDClassifier(alpha=0.0001, average=False, class_weight=None,\n",
       "       early_stopping=False, epsilon=0.1, eta0=0.0, fit_intercept=True,\n",
       "       l1_ratio=0.15, learning_rate='optimal', loss='hinge', max_iter=None,\n",
       "       n_iter=None, n_iter_no_change=5, n_jobs=None, penalty='l2',\n",
       "       power_t=0.5, random_state=17, shuffle=True, tol=None,\n",
       "       validation_fraction=0.1, verbose=0, warm_start=False)"
      ]
     },
     "execution_count": 19,
     "metadata": {},
     "output_type": "execute_result"
    }
   ],
   "source": [
    "model = SGDClassifier(random_state=17)\n",
    "model.fit(X, y)"
   ]
  },
  {
   "cell_type": "code",
   "execution_count": 20,
   "metadata": {},
   "outputs": [],
   "source": [
    "boston_apartments_df = df[df.group =='https://www.facebook.com/groups/1210575355774169/']\n",
    "harvard_apartments_df = df[df.group =='https://www.facebook.com/groups/735597296550141/']"
   ]
  },
  {
   "cell_type": "code",
   "execution_count": 21,
   "metadata": {},
   "outputs": [
    {
     "data": {
      "text/plain": [
       "(1181, 6536)"
      ]
     },
     "execution_count": 21,
     "metadata": {},
     "output_type": "execute_result"
    }
   ],
   "source": [
    "X.shape"
   ]
  },
  {
   "cell_type": "code",
   "execution_count": 22,
   "metadata": {},
   "outputs": [],
   "source": [
    "boston_apartments_all_text = list(boston_apartments_df['text'].values)\n",
    "boston_apartments_all_text = cv_text.transform(boston_apartments_all_text)\n",
    "boston_apartments_all_text = tfidf.transform(boston_apartments_all_text)\n",
    "boston_apartments_scaled_len = text_len_scaler.transform(boston_apartments_df['text_len'].values.reshape(-1, 1))\n",
    "\n",
    "X = hstack([boston_apartments_all_text, boston_apartments_scaled_len]).tocsr()\n",
    "boston_apartments_preds = model.predict(X)\n",
    "boston_apartments_df['supply'] = boston_apartments_preds"
   ]
  },
  {
   "cell_type": "code",
   "execution_count": 23,
   "metadata": {},
   "outputs": [],
   "source": [
    "harvard_apartments_all_text = list(harvard_apartments_df['text'].values)\n",
    "harvard_apartments_all_text = cv_text.transform(harvard_apartments_all_text)\n",
    "harvard_apartments_all_text = tfidf.transform(harvard_apartments_all_text)\n",
    "harvard_apartments_scaled_len = text_len_scaler.transform(harvard_apartments_df['text_len'].values.reshape(-1, 1))\n",
    "\n",
    "X = hstack([harvard_apartments_all_text, harvard_apartments_scaled_len]).tocsr()\n",
    "harvard_apartments_preds = model.predict(X)\n",
    "harvard_apartments_df['supply'] = harvard_apartments_preds"
   ]
  },
  {
   "cell_type": "code",
   "execution_count": 24,
   "metadata": {},
   "outputs": [
    {
     "data": {
      "text/plain": [
       "True     835\n",
       "False    431\n",
       "Name: supply, dtype: int64"
      ]
     },
     "execution_count": 24,
     "metadata": {},
     "output_type": "execute_result"
    }
   ],
   "source": [
    "boston_apartments_df.supply.value_counts()"
   ]
  },
  {
   "cell_type": "code",
   "execution_count": 25,
   "metadata": {},
   "outputs": [
    {
     "data": {
      "text/plain": [
       "True     894\n",
       "False    352\n",
       "Name: supply, dtype: int64"
      ]
     },
     "execution_count": 25,
     "metadata": {},
     "output_type": "execute_result"
    }
   ],
   "source": [
    "harvard_apartments_df.supply.value_counts()"
   ]
  },
  {
   "cell_type": "code",
   "execution_count": 26,
   "metadata": {},
   "outputs": [
    {
     "data": {
      "text/plain": [
       "False    624\n",
       "True     557\n",
       "Name: supply, dtype: int64"
      ]
     },
     "execution_count": 26,
     "metadata": {},
     "output_type": "execute_result"
    }
   ],
   "source": [
    "alpaca_df.supply.value_counts()"
   ]
  },
  {
   "cell_type": "markdown",
   "metadata": {},
   "source": [
    "New Groups have skew to supply and it's true indeed if we would look at them."
   ]
  },
  {
   "cell_type": "code",
   "execution_count": 27,
   "metadata": {},
   "outputs": [],
   "source": [
    "df = pd.concat([alpaca_df,harvard_apartments_df,boston_apartments_df], axis=0)"
   ]
  },
  {
   "cell_type": "code",
   "execution_count": 28,
   "metadata": {},
   "outputs": [],
   "source": [
    "df.reset_index(inplace=True)\n",
    "df.to_feather(DATA_PATH + 'housing_with_supply')"
   ]
  },
  {
   "cell_type": "code",
   "execution_count": 34,
   "metadata": {},
   "outputs": [],
   "source": [
    "with open(MODELS_PATH + 'housing_demand_classifier.pkl', 'wb') as f_id:\n",
    "    pickle.dump(model, f_id)    "
   ]
  },
  {
   "cell_type": "code",
   "execution_count": null,
   "metadata": {},
   "outputs": [],
   "source": []
  }
 ],
 "metadata": {
  "kernelspec": {
   "display_name": "Python 3",
   "language": "python",
   "name": "python3"
  },
  "language_info": {
   "codemirror_mode": {
    "name": "ipython",
    "version": 3
   },
   "file_extension": ".py",
   "mimetype": "text/x-python",
   "name": "python",
   "nbconvert_exporter": "python",
   "pygments_lexer": "ipython3",
   "version": "3.6.6"
  }
 },
 "nbformat": 4,
 "nbformat_minor": 2
}
