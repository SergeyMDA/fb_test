{
 "cells": [
  {
   "cell_type": "code",
   "execution_count": 1,
   "metadata": {},
   "outputs": [],
   "source": [
    "import os\n",
    "import copy\n",
    "import pandas as pd\n",
    "import numpy as np\n",
    "import feather\n",
    "\n",
    "\n",
    "\n",
    "import warnings\n",
    "warnings.filterwarnings('ignore')\n",
    "pd.set_option('display.max_colwidth', 100)"
   ]
  },
  {
   "cell_type": "code",
   "execution_count": 2,
   "metadata": {},
   "outputs": [],
   "source": [
    "DATA_PATH = '../data/'\n",
    "df =  feather.read_dataframe(DATA_PATH + 'housing_with_prices')"
   ]
  },
  {
   "cell_type": "code",
   "execution_count": 3,
   "metadata": {},
   "outputs": [
    {
     "name": "stdout",
     "output_type": "stream",
     "text": [
      "without location 1088\n",
      "with location 1444\n"
     ]
    }
   ],
   "source": [
    "print(f'without location {df.location.isnull().sum()}')\n",
    "print(f'with location {df.location.notnull().sum()}')"
   ]
  },
  {
   "cell_type": "code",
   "execution_count": 4,
   "metadata": {},
   "outputs": [
    {
     "data": {
      "text/plain": [
       "Cambridge            239\n",
       "Somerville           172\n",
       "Roxbury Crossing     143\n",
       "Dorchester           122\n",
       "Allston               91\n",
       "Brighton              72\n",
       "Brookline             71\n",
       "Roxbury               67\n",
       "New Bedford           43\n",
       "Jamaica Plain         36\n",
       "East Boston           32\n",
       "Medford               28\n",
       "Watertown             18\n",
       "Malden                18\n",
       "Dorchester Center     17\n",
       "Name: location, dtype: int64"
      ]
     },
     "execution_count": 4,
     "metadata": {},
     "output_type": "execute_result"
    }
   ],
   "source": [
    "df[df.location.notnull()]['location'].value_counts().head(15)"
   ]
  },
  {
   "cell_type": "code",
   "execution_count": 5,
   "metadata": {},
   "outputs": [],
   "source": [
    "featured_districts = ['Brookline',\n",
    "            'Cambridge',\n",
    "            'East Boston',\n",
    "            'Fitchburg',\n",
    "             'Fall River',\n",
    "             'Jamaica Plain',\n",
    "             'Lowell',\n",
    "             'Lynn',\n",
    "             'Malden',\n",
    "             'Medfold',\n",
    "             'New Bedford',\n",
    "            'Quincy',\n",
    "             'Revere',\n",
    "             'Somerville',\n",
    "             'Watertown',\n",
    "            \n",
    "            ]"
   ]
  },
  {
   "cell_type": "code",
   "execution_count": 6,
   "metadata": {},
   "outputs": [],
   "source": [
    "def search_district(text):\n",
    "    for dist in featured_districts:\n",
    "        if dist.lower() in text:\n",
    "            return dist"
   ]
  },
  {
   "cell_type": "code",
   "execution_count": 7,
   "metadata": {},
   "outputs": [],
   "source": [
    "# naive implementation as district in demand could be an array\n",
    "df.loc[df.location.isnull(), 'location'] = df[df.location.isnull()].text.apply(lambda t: search_district(t))"
   ]
  },
  {
   "cell_type": "code",
   "execution_count": 8,
   "metadata": {},
   "outputs": [],
   "source": [
    "df_with_loc = df[df.location.notnull()]\n",
    "df_without_loc = df[df.location.isnull()]"
   ]
  },
  {
   "cell_type": "code",
   "execution_count": 9,
   "metadata": {},
   "outputs": [
    {
     "name": "stdout",
     "output_type": "stream",
     "text": [
      "without location 786\n",
      "with location 1746\n"
     ]
    }
   ],
   "source": [
    "print(f'without location {df_without_loc.location.isnull().sum()}')\n",
    "print(f'with location {df_with_loc.location.notnull().sum()}')"
   ]
  },
  {
   "cell_type": "code",
   "execution_count": 10,
   "metadata": {},
   "outputs": [
    {
     "data": {
      "text/plain": [
       "Cambridge           379\n",
       "Somerville          199\n",
       "Brookline           149\n",
       "Roxbury Crossing    143\n",
       "Dorchester          122\n",
       "Allston              91\n",
       "Brighton             72\n",
       "Roxbury              67\n",
       "Jamaica Plain        48\n",
       "East Boston          43\n",
       "New Bedford          43\n",
       "Medford              28\n",
       "Quincy               28\n",
       "Watertown            23\n",
       "Malden               23\n",
       "Name: location, dtype: int64"
      ]
     },
     "execution_count": 10,
     "metadata": {},
     "output_type": "execute_result"
    }
   ],
   "source": [
    "df[df.location.notnull()]['location'].value_counts().head(15)"
   ]
  },
  {
   "cell_type": "code",
   "execution_count": 11,
   "metadata": {},
   "outputs": [],
   "source": [
    "# df.reset_index(inplace=True)\n",
    "df.to_feather(DATA_PATH + 'housing_with_location')"
   ]
  }
 ],
 "metadata": {
  "kernelspec": {
   "display_name": "Python 3",
   "language": "python",
   "name": "python3"
  },
  "language_info": {
   "codemirror_mode": {
    "name": "ipython",
    "version": 3
   },
   "file_extension": ".py",
   "mimetype": "text/x-python",
   "name": "python",
   "nbconvert_exporter": "python",
   "pygments_lexer": "ipython3",
   "version": "3.6.6"
  }
 },
 "nbformat": 4,
 "nbformat_minor": 2
}
