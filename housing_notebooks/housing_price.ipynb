{
 "cells": [
  {
   "cell_type": "code",
   "execution_count": 1,
   "metadata": {},
   "outputs": [],
   "source": [
    "import copy\n",
    "import pandas as pd\n",
    "import numpy as np\n",
    "import feather\n",
    "\n",
    "from sklearn.linear_model import SGDClassifier\n",
    "from sklearn.feature_extraction.text import CountVectorizer, TfidfTransformer\n",
    "from sklearn.model_selection import train_test_split\n",
    "from sklearn.metrics import accuracy_score\n",
    "from scipy.sparse import csr_matrix, hstack\n",
    "from sklearn.preprocessing import StandardScaler\n",
    "\n",
    "import warnings\n",
    "warnings.filterwarnings('ignore')\n",
    "pd.set_option('display.max_colwidth', 100)"
   ]
  },
  {
   "cell_type": "code",
   "execution_count": 3,
   "metadata": {},
   "outputs": [],
   "source": [
    "DATA_PATH = '../data/'\n",
    "df =  feather.read_dataframe(DATA_PATH + 'housing_with_supply')"
   ]
  },
  {
   "cell_type": "code",
   "execution_count": 4,
   "metadata": {},
   "outputs": [
    {
     "data": {
      "text/plain": [
       "1272"
      ]
     },
     "execution_count": 4,
     "metadata": {},
     "output_type": "execute_result"
    }
   ],
   "source": [
    "df.price.isna().sum()"
   ]
  },
  {
   "cell_type": "code",
   "execution_count": 5,
   "metadata": {},
   "outputs": [
    {
     "data": {
      "text/plain": [
       "$750              119\n",
       "FREE               95\n",
       "$800               63\n",
       "$900               60\n",
       "$1,300             59\n",
       "$950               57\n",
       "$1,000             56\n",
       "Contact seller     45\n",
       "$1,369             40\n",
       "$1                 36\n",
       "$1,100             34\n",
       "$1,200             30\n",
       "$2,000             30\n",
       "$1,500             29\n",
       "$25                29\n",
       "$2,200             28\n",
       "$850               27\n",
       "$1,400             27\n",
       "$2,250             26\n",
       "$109               25\n",
       "$700               25\n",
       "$2,300             24\n",
       "$2,700             24\n",
       "$650               22\n",
       "$2,100             22\n",
       "$1,800             21\n",
       "$50                21\n",
       "$1,850             20\n",
       "$2,500             19\n",
       "$2,800             19\n",
       "                 ... \n",
       "$3,510              1\n",
       "2 100 $             1\n",
       "$1,630              1\n",
       "$2,616              1\n",
       "$160                1\n",
       "$290                1\n",
       "$1,075              1\n",
       "$299                1\n",
       "1 300 $             1\n",
       "$1,480              1\n",
       "৳2,000              1\n",
       "$710                1\n",
       "$2,275              1\n",
       "$840                1\n",
       "$1,035              1\n",
       "$6,350              1\n",
       "2 700 $             1\n",
       "$3,228              1\n",
       "$1,595              1\n",
       "$2,205              1\n",
       "6 000 $             1\n",
       "$69                 1\n",
       "$785                1\n",
       "$1,788              1\n",
       "2 600 $             1\n",
       "$2,230              1\n",
       "3 400 $             1\n",
       "$2,640              1\n",
       "$160 Now $50        1\n",
       "$4,695              1\n",
       "Name: price, Length: 484, dtype: int64"
      ]
     },
     "execution_count": 5,
     "metadata": {},
     "output_type": "execute_result"
    }
   ],
   "source": [
    "df.price.value_counts()"
   ]
  },
  {
   "cell_type": "code",
   "execution_count": 6,
   "metadata": {},
   "outputs": [
    {
     "data": {
      "text/plain": [
       "2554    542 ferry st everett ..... cualquier pregunta nos puede llamar al 617 3720261 ... atendemos los ...\n",
       "2324               free for reviewers us uk de jp pm me with your amazon profile if you have any interest .\n",
       "3348    permanent accommodation available for 1 girl in 1 bhk starting january 2019 . - friendly roommat...\n",
       "3168                                                                                                       \n",
       "2420    i have 2 twin full mattresses and stands all in really good condition ( used less than 6 months ...\n",
       "1883    during this holiday time of giving and being grateful , i wanted to share with this group a fun ...\n",
       "3382                                                                                                       \n",
       "3104    we like to inform our customers we will also be working with doing tile & painting we will expan...\n",
       "2419                                                                                       what 04248841674\n",
       "3106    esta pessoa . se chama marilda da silva , q se passa por uma ingenua e amigavel pessoa e porque ...\n",
       "Name: text, dtype: object"
      ]
     },
     "execution_count": 6,
     "metadata": {},
     "output_type": "execute_result"
    }
   ],
   "source": [
    "df[df.price =='FREE'].text.sample(10)"
   ]
  },
  {
   "cell_type": "code",
   "execution_count": 7,
   "metadata": {},
   "outputs": [
    {
     "data": {
      "text/plain": [
       "1625                                                                                                       \n",
       "3325                                                               pueden hacer sus ordenes estoy ala orden\n",
       "1598    available for pick up now : ikea floor lamp with two led spot lights ( height adjustable ) - $ 4...\n",
       "3172    1 . ceramic space heater $ 20 2 . set of 4 placemats 15 inches diameter $ 6 3 . cube organizer 4...\n",
       "2617    jkr cleaning services about us jkr cleaning servicesjanitorial services in acton , ma we are a l...\n",
       "3379                                                                                                       \n",
       "3452    listen , read , jkr has the best offer for you 1 ) we give you estimate absolutely free 2 ) if y...\n",
       "1596    we can provide you with exceptional cleaning services for an affordable price that fits your bud...\n",
       "1329    need a place to crash @ night from 01 / 19 - 01 / 26 . i will be doing a course on campus , 8am ...\n",
       "2754                                                                                                       \n",
       "Name: text, dtype: object"
      ]
     },
     "execution_count": 7,
     "metadata": {},
     "output_type": "execute_result"
    }
   ],
   "source": [
    "df[df.price =='$1'].text.sample(10)"
   ]
  },
  {
   "cell_type": "markdown",
   "metadata": {},
   "source": [
    "Probably low prices all trash, get rid of them."
   ]
  },
  {
   "cell_type": "code",
   "execution_count": 8,
   "metadata": {},
   "outputs": [],
   "source": [
    "df.loc[df.price == 'Contact seller', 'price'] = None\n",
    "df = df[df.price != 'FREE']"
   ]
  },
  {
   "cell_type": "code",
   "execution_count": 9,
   "metadata": {},
   "outputs": [],
   "source": [
    "df.price = df.price.str.replace('$', '')\n",
    "df.price = df.price.str.replace(',', '')\n",
    "df.price = df.price.str.replace(' ', '')"
   ]
  },
  {
   "cell_type": "code",
   "execution_count": 10,
   "metadata": {},
   "outputs": [
    {
     "data": {
      "text/plain": [
       "15       865\n",
       "16      1780\n",
       "17      1225\n",
       "40       900\n",
       "42       700\n",
       "55      1150\n",
       "72       850\n",
       "109      650\n",
       "130      660\n",
       "137      660\n",
       "146     1265\n",
       "147     1265\n",
       "160      675\n",
       "170     2400\n",
       "175      800\n",
       "178     1400\n",
       "191      885\n",
       "197      800\n",
       "201     2175\n",
       "209      780\n",
       "211     1100\n",
       "215      900\n",
       "224      900\n",
       "225      932\n",
       "226      931\n",
       "236      800\n",
       "240     2400\n",
       "247     1300\n",
       "250      200\n",
       "254      880\n",
       "        ... \n",
       "3661       1\n",
       "3662     825\n",
       "3663    6995\n",
       "3664    3495\n",
       "3665    2500\n",
       "3666    1000\n",
       "3668      50\n",
       "3669    1100\n",
       "3670    4300\n",
       "3671    3995\n",
       "3672    3275\n",
       "3673     250\n",
       "3674      40\n",
       "3675    5875\n",
       "3676    4500\n",
       "3677     800\n",
       "3678    3525\n",
       "3679    1600\n",
       "3680    4995\n",
       "3681    6995\n",
       "3682    1600\n",
       "3683    1555\n",
       "3684    2400\n",
       "3685    2900\n",
       "3686    2300\n",
       "3687    1500\n",
       "3688    6995\n",
       "3690     109\n",
       "3691    1400\n",
       "3692      50\n",
       "Name: price, Length: 2281, dtype: object"
      ]
     },
     "execution_count": 10,
     "metadata": {},
     "output_type": "execute_result"
    }
   ],
   "source": [
    "df[df.price.notna()].price"
   ]
  },
  {
   "cell_type": "code",
   "execution_count": 11,
   "metadata": {},
   "outputs": [
    {
     "data": {
      "text/plain": [
       "633           ₡1595\n",
       "952           ₡1000\n",
       "1184          ৳2000\n",
       "1190            ৳10\n",
       "1196            ৳10\n",
       "1198            ৳10\n",
       "1201            ৳10\n",
       "1206       130Now95\n",
       "1294            ৳10\n",
       "1295            ৳10\n",
       "1310            ৳10\n",
       "1325      400Now300\n",
       "1406          Rs100\n",
       "1531           R500\n",
       "1576           Rp85\n",
       "1603        د.م.749\n",
       "1654    2200NowFREE\n",
       "1716        د.م.299\n",
       "1724        35Now31\n",
       "1739        د.م.349\n",
       "1749           €349\n",
       "1783        د.م.349\n",
       "1787        د.إ.349\n",
       "1803        900Now1\n",
       "1821             ৳1\n",
       "1873            9kr\n",
       "1919          700kr\n",
       "1973    1250Now1200\n",
       "2007            ৳10\n",
       "2028       160Now50\n",
       "2029       250Now80\n",
       "2030        70Now50\n",
       "2031      200Now150\n",
       "2044            ৳10\n",
       "2112    2850Now2700\n",
       "2114            ৳10\n",
       "2260         1500kr\n",
       "2284      985Now935\n",
       "2288          €1290\n",
       "2289          €1290\n",
       "2309    3300Now3000\n",
       "2379          915kr\n",
       "2488        40Now30\n",
       "2567    2850Now2700\n",
       "2608          650Ft\n",
       "2634        35Now25\n",
       "2910        60Now54\n",
       "3171            9kr\n",
       "3185        80Now65\n",
       "3261          R2499\n",
       "3338        70Now50\n",
       "3339      200Now100\n",
       "3373        20Now15\n",
       "3384           R800\n",
       "3508      500Now300\n",
       "3616          €1290\n",
       "Name: price, dtype: object"
      ]
     },
     "execution_count": 11,
     "metadata": {},
     "output_type": "execute_result"
    }
   ],
   "source": [
    "df[df.price.str.isdigit() == False].price"
   ]
  },
  {
   "cell_type": "code",
   "execution_count": 12,
   "metadata": {},
   "outputs": [],
   "source": [
    "df = df[df.price.str.isdigit() != False]"
   ]
  },
  {
   "cell_type": "code",
   "execution_count": 13,
   "metadata": {},
   "outputs": [],
   "source": [
    "df.price = pd.to_numeric(df.price)"
   ]
  },
  {
   "cell_type": "code",
   "execution_count": 14,
   "metadata": {},
   "outputs": [
    {
     "data": {
      "text/plain": [
       "1317"
      ]
     },
     "execution_count": 14,
     "metadata": {},
     "output_type": "execute_result"
    }
   ],
   "source": [
    "df = df.drop(['index'], axis=1)\n",
    "df.set_index('_id', inplace=True)\n",
    "(df.price.isna()).sum()"
   ]
  },
  {
   "cell_type": "code",
   "execution_count": 15,
   "metadata": {},
   "outputs": [
    {
     "data": {
      "text/plain": [
       "_id\n",
       "1479880328812571       NaN\n",
       "1479180942215843    1500.0\n",
       "1480022945464976       NaN\n",
       "1477063982427539       NaN\n",
       "1479158692218068    2200.0\n",
       "1479191505548120     550.0\n",
       "1479914938809110    2300.0\n",
       "1478598302274107     900.0\n",
       "1481441911989746     800.0\n",
       "1480645032069434       NaN\n",
       "1480458662088071       NaN\n",
       "1478018872332050       NaN\n",
       "1480516452082292    2300.0\n",
       "1465954623538475     600.0\n",
       "1480919655375305     900.0\n",
       "1410125065788098       NaN\n",
       "1480030262130911       NaN\n",
       "1480705618730042    1175.0\n",
       "1480738368726767       NaN\n",
       "1480116122122325    1000.0\n",
       "1458460874287850     600.0\n",
       "1479258578874746     900.0\n",
       "1480609282073009       NaN\n",
       "1477779312356006     800.0\n",
       "1480045572129380     500.0\n",
       "1480021002131837       NaN\n",
       "1478462328954371     800.0\n",
       "1479871538813450     900.0\n",
       "1480346522099285       NaN\n",
       "1480217192112218    6171.0\n",
       "                     ...  \n",
       "1398638656967837       NaN\n",
       "1397591447072558       NaN\n",
       "1396371000527936       NaN\n",
       "1396367407194962       NaN\n",
       "1395426220622414       NaN\n",
       "1394644104033959       NaN\n",
       "1411612172337152       NaN\n",
       "1411520392346330       NaN\n",
       "1411454019019634       NaN\n",
       "1411242349040801       NaN\n",
       "1410794922418877       NaN\n",
       "1410624785769224       NaN\n",
       "1410512099113826       NaN\n",
       "1393454734152896       NaN\n",
       "1393231504175219       NaN\n",
       "1393091184189251    1450.0\n",
       "1393090837522619    1450.0\n",
       "1392860174212352       NaN\n",
       "1392744720890564       NaN\n",
       "1392705790894457       NaN\n",
       "1391947874303582       NaN\n",
       "1391944137637289       NaN\n",
       "1391935634304806       NaN\n",
       "1391850077646695       NaN\n",
       "1391849774313392       NaN\n",
       "1391424294355940       NaN\n",
       "1390930937738609       NaN\n",
       "1390647344433635       NaN\n",
       "1412332365598466       NaN\n",
       "1411953015636401       NaN\n",
       "Name: 0, Length: 1317, dtype: float64"
      ]
     },
     "execution_count": 15,
     "metadata": {},
     "output_type": "execute_result"
    }
   ],
   "source": [
    "pd.to_numeric(df[df.price.isna()].text.str.extract('(\\$ *\\d+[ , ]*[\\d]*|\\d+ *\\$)')[0].str.replace('$','').str.replace(' ','').str.replace(',',''))"
   ]
  },
  {
   "cell_type": "code",
   "execution_count": 16,
   "metadata": {},
   "outputs": [
    {
     "data": {
      "text/plain": [
       "700"
      ]
     },
     "execution_count": 16,
     "metadata": {},
     "output_type": "execute_result"
    }
   ],
   "source": [
    "df.loc[df.price.isna(), 'price'] =  pd.to_numeric(df[df.price.isna()].text.str\\\n",
    "                                                  .extract('(\\$ *\\d+[ , ]*[\\d]*|\\d+ *\\$)')[0]\\\n",
    "                                                  .str.replace('$','')\\\n",
    "                                                  .str.replace(' ','')\\\n",
    "                                                  .str.replace(',',''))\n",
    "(df.price.isna()).sum()"
   ]
  },
  {
   "cell_type": "code",
   "execution_count": 17,
   "metadata": {},
   "outputs": [
    {
     "data": {
      "text/plain": [
       "_id\n",
       "1479880328812571       NaN\n",
       "1479180942215843    1500.0\n",
       "1480022945464976       NaN\n",
       "1477063982427539       NaN\n",
       "1479158692218068    2200.0\n",
       "1479191505548120     550.0\n",
       "1479914938809110    2300.0\n",
       "1478598302274107     900.0\n",
       "1481441911989746     800.0\n",
       "1480645032069434       NaN\n",
       "1480458662088071       NaN\n",
       "1478018872332050       NaN\n",
       "1480516452082292    2300.0\n",
       "1465954623538475     600.0\n",
       "1480919655375305     900.0\n",
       "1480915085375762     865.0\n",
       "1478517515615519    1780.0\n",
       "1480894648711139    1225.0\n",
       "1410125065788098       NaN\n",
       "1480030262130911       NaN\n",
       "1480705618730042    1175.0\n",
       "1480738368726767       NaN\n",
       "1480116122122325    1000.0\n",
       "1458460874287850     600.0\n",
       "1479258578874746     900.0\n",
       "1480609282073009       NaN\n",
       "1477779312356006     800.0\n",
       "1480045572129380     500.0\n",
       "1480021002131837       NaN\n",
       "1478462328954371     800.0\n",
       "                     ...  \n",
       "1411781128986923     825.0\n",
       "1412257918939244    6995.0\n",
       "1412234712274898    3495.0\n",
       "1411832735648429    2500.0\n",
       "1412212832277086    1000.0\n",
       "1412137608951275      50.0\n",
       "1412119982286371    1100.0\n",
       "1412115838953452    4300.0\n",
       "1412114828953553    3995.0\n",
       "1412113902286979    3275.0\n",
       "1412060808958955     250.0\n",
       "1412060798958956      40.0\n",
       "1412052442293125    5875.0\n",
       "1412046892293680    4500.0\n",
       "1412044032293966     800.0\n",
       "1412038028961233    3525.0\n",
       "1412037978961238    1600.0\n",
       "1412032262295143    4995.0\n",
       "1412030008962035    6995.0\n",
       "1412023058962730    1600.0\n",
       "1412014165630286    1555.0\n",
       "1412008502297519    2400.0\n",
       "1412007305630972    2900.0\n",
       "1412004875631215    2300.0\n",
       "1411997695631933    1500.0\n",
       "1411987648966271    6995.0\n",
       "1411953015636401       NaN\n",
       "1411893822308987     109.0\n",
       "1411835418981494    1400.0\n",
       "1411792508985785      50.0\n",
       "Name: price, Length: 3542, dtype: float64"
      ]
     },
     "execution_count": 17,
     "metadata": {},
     "output_type": "execute_result"
    }
   ],
   "source": [
    "df.price"
   ]
  },
  {
   "cell_type": "code",
   "execution_count": 18,
   "metadata": {},
   "outputs": [
    {
     "data": {
      "text/plain": [
       "700"
      ]
     },
     "execution_count": 18,
     "metadata": {},
     "output_type": "execute_result"
    }
   ],
   "source": [
    "(df.price.isna()).sum()"
   ]
  },
  {
   "cell_type": "markdown",
   "metadata": {},
   "source": [
    "We can do better!"
   ]
  },
  {
   "cell_type": "code",
   "execution_count": 19,
   "metadata": {},
   "outputs": [],
   "source": [
    "def get_key_substring(text, key):\n",
    "    if key in text:\n",
    "        key_index = text.index(key)\n",
    "        return text[key_index-20:key_index+20 + len(key)]\n",
    "    else:\n",
    "        return None\n",
    "import re\n",
    "def get_price_from_substring(substring):\n",
    "    if not substring:\n",
    "        return None\n",
    "    possible_prices_match = re.finditer('\\d+[ |,]*[ |,]*[ |,]*[\\d+]*', substring)\n",
    "    for poss in possible_prices_match:\n",
    "        poss_str = poss.string[poss.start():poss.end()]\n",
    "        poss_str = int(poss_str.replace(',','').replace(' ','').strip())\n",
    "        if poss_str > 200:\n",
    "            return poss_str\n",
    "    return None "
   ]
  },
  {
   "cell_type": "code",
   "execution_count": 20,
   "metadata": {},
   "outputs": [
    {
     "data": {
      "text/plain": [
       "_id\n",
       "1479180942215843    surrounding areas . budget is ~$ 1500 or less \n",
       "1479158692218068    ng in waltham . our budget is 2200 $/ month bu\n",
       "1478018872332050    he house clean . my budget is between 650 - 70\n",
       "1465954623538475    e around mit with a budget of $ 600 - $ 900 a \n",
       "1480919655375305    owntown boston . my budget is <= $ 900 . pm me\n",
       "1480116122122325    w people and pets ! budget : ~ $ 1000 per mont\n",
       "1479258578874746    ing for a room . my budget is $ 900 a month . \n",
       "1480045572129380    d pet friendly . my budget is $ 500 -$ 800 . s\n",
       "1480021002131837           h to jan 29th . our budget is 900 usd .\n",
       "1478462328954371    ance is fine too ). budget : around $ 800 ( ut\n",
       "Name: text, dtype: object"
      ]
     },
     "execution_count": 20,
     "metadata": {},
     "output_type": "execute_result"
    }
   ],
   "source": [
    "df[df.text.str.contains('budget')].text.apply(lambda t: get_key_substring(t,'budget')).head(10)"
   ]
  },
  {
   "cell_type": "code",
   "execution_count": 21,
   "metadata": {},
   "outputs": [],
   "source": [
    "df.loc[df.price.isna(), 'price'] = df.loc[df.price.isna()].text\\\n",
    "                        .apply(lambda t: get_key_substring(t,'budget'))\\\n",
    "                        .apply(lambda t: get_price_from_substring(t))"
   ]
  },
  {
   "cell_type": "code",
   "execution_count": 22,
   "metadata": {},
   "outputs": [],
   "source": [
    "df.loc[df.price.isna(), 'price'] = df.loc[df.price.isna()].text\\\n",
    "                        .apply(lambda t: get_key_substring(t,'max'))\\\n",
    "                        .apply(lambda t: get_price_from_substring(t))"
   ]
  },
  {
   "cell_type": "code",
   "execution_count": 23,
   "metadata": {},
   "outputs": [],
   "source": [
    "df.loc[df.price.isna(), 'price'] = df.loc[df.price.isna()].text\\\n",
    "                        .apply(lambda t: get_key_substring(t,'month'))\\\n",
    "                        .apply(lambda t: get_price_from_substring(t))"
   ]
  },
  {
   "cell_type": "markdown",
   "metadata": {},
   "source": [
    "It appered that somites people describe money with such words: budget, max, month."
   ]
  },
  {
   "cell_type": "code",
   "execution_count": 24,
   "metadata": {},
   "outputs": [
    {
     "data": {
      "text/plain": [
       "613"
      ]
     },
     "execution_count": 24,
     "metadata": {},
     "output_type": "execute_result"
    }
   ],
   "source": [
    "(df.price.isna()).sum()"
   ]
  },
  {
   "cell_type": "code",
   "execution_count": 25,
   "metadata": {},
   "outputs": [
    {
     "data": {
      "text/plain": [
       "_id\n",
       "1479880328812571                                                                                                                                                                                                                                                                                                                                                                                                                                                                                                                                                                                                                                                                                                                                                                                                automated locks are extremely convenient , as they allow you to lock and unlock your doors remotely from your smartphone or computer . you can give time - limited access to house guests , construction workers , babysitters , and more .\n",
       "1480022945464976                                                                                                                                                                                                                                                                                                                                                                                                                                                                                                                                                                                                                                                                                                                                                                                                                                                                                                                                                                     spacious master bedroom with walk - in closet available january 1st !!\n",
       "1477063982427539                                                                                                                                                                                                                                                                                                                                                                                                                                                                                                                                                                                                                                                                                                                                                                                                                                   room for sublet near porter and union square . looking for a young professional to move in 1 / 1 / 19 - 8 / 31 / 19 with option to renew . we are three young professionals in our mid - late twenties .\n",
       "1480645032069434                                                                                                                                                                                                                                                                                                                                                                                                                                                                                                                                                                                                                                                                                                                                                                                                                                      subletting an apartment in natick center from january to july . unit has own laundry unit , dishwasher , heating control unit and parking . it is 5 mins walk to the train . pm me for more details .\n",
       "1480458662088071                                                                                                                                                                                                                                                                                                                                                                                                                                                                                                                                                                                                                                                                              hello , i am french and i am 21 years old . with a french friend we come to boston to study from the end of january to the end of may and we are looking for a shared flat where we could each have our own room or even a room to share if possible . we are looking for in the areas of cambridge , allston , brighton , brookline and fenway . thank you .\n",
       "1410125065788098                                                                                                                                                                                                                                                                                                                                                                                                                                                                                                                                                                 hi all , i am julie , a junior student at babson college . i am looking for a room with a private bathroom ( and better if there is also a small extra living room / space ) in needham , newton , wellesley area . would love to share kitchen , need parking space and also must be cat - friendly . move in january . would be a long - term rent if everything fits . i must physically check out the room , so no money for scammers . message me directly . thanks 😊\n",
       "1480030262130911                                                                                   hello ! i am looking to sublet the room in my apt asap - until the end of my lease - september 2019 . area : boston - beacon hill rent : 1 , 050 / mo more about the room : right in the heart of boston ' s historic beacon hill neighborhood . hardwood floors , free gas heating , overhead fan & light fixture , a wall bed (\" murphy bed \" - folds back into wall for extra space while working ) installed by me , matching cabinet space and bookshelf also built by me , 2 windows and a closet . apartment : 2br 1ba kitchen - gas stove top , fidge , cabinets , sink , dinning area . small full bath - tub / shower . neighborhood : right off myrtle street . steps from the boston commons / statehouse / charles st / whole foods . you will have one other roommate - young professional male age 24 . please contact me if you or a friend would be interested . i am happy to send more pictures / videos / facetime back at the apt .\n",
       "1480738368726767                                                                                                                                                                                                                                                                                                                                                                                                                                                                                                                                                                                                                                                                                                                                                                                                    hello , i have a short stay from jan 30th to feb 2nd in boston . i ’ m looking for a place to stay those nights possibly within walking distance from boston convention center with girls only . i don ’ t mind shared rooms . thanks .\n",
       "1480609282073009                                                                                                                                                                                                                                                                                                                                                                                                                                                                                                                                                                                                                 hey , i ’ m going to be doing an internship in quincy from january to may and i ’ m looking for a sublet for that time . furnished is ideal but not necessary , and pricing can be negotiated . looking to room with other people in their 20 ’ s if possible . if it ’ s not in quincy it ’ s fine as long as it ’ s within walking distance of the t . pricing can be negotiated . feel free to pm . thanks in advance !\n",
       "1480346522099285                                                                                                                                                                                                                                                                                                                                                                                                                                                                                                                                                                                                                                                                                                                                                                                                                      hello , i am looking for a place to stay from feb 1st till may 15th 2019 . preferably a one bedroom or a studio in the downtown , back bay , fenway , or comm ave areas . please message me if you are able to help !\n",
       "1479929762140961                                                                                                                                                                                                                                                                                                                                                                                                                                                                                                                                                                                                                                                                                                   hello , i ’ m looking to sublet my room in south boston for the months of march and april ( exact dates are negotiable ). spacious , furnished room in a 3 bedroom / 1 . 5 bathroom apartment . great location . 2 awesome male roommates . preferably a female , but males welcome as well . message me for more details and pictures !\n",
       "1475323889268215                                                                                                                                                                                                                                                                                                                                                                                                                                     a big bedroom is available immediately in an ideally located mission hill apartment till 8 / 31 / 19 . safe locality with easy access to green and orange lines . 4 minutes down the block is stop & shop , walgreens , 7 - eleven , dunkin donuts , indian groceries and a bunch more bars and restaurants . around 5 minutes walk is brigham circle greenline and mcphs . roxbury crossing orange line is 8 minutes walk away . wentworth and massart is 10 mins walk . northeastern university is also a 15 minutes walk . please dm me for more details and to see the place . no smokers please .\n",
       "1480053762128561                                                                                                                                                                                                                                                                                                                                                                                                                                                                                                                                                                                                                                                                        hello everyone , location : marlborough , ma i and my friend are looking for a third roommate to join us in leasing a 3 bedroom apartment for a 1 - year lease ( we can discuss it ). i cannot tag her because she does not use facebook . we both are young professionals just graduated this month . please message me if you are interested in staying with us .\n",
       "1472267716240499                                                                                                                                                                                                                                                                                                                                                                                                                                                                                                                                                                                                        hi ! my name is lizzy and i ' m a student at the university of missouri - columbia . i have an internship in boston ( financial district ) this summer from early june - early august ; i ' m looking for housing in a safe area that ' s close to public transportation . i ' ve heard that south boston , for example , is a great little neighborhood ! please comment or dm me with any suggestions / opportunities ! thanks :)\n",
       "1477661449034459                                                                                                                                                                                                                                                                                                                                                                                                                                                                                                                                                                                                                                                                                                                                                                                                                      i am looking for a one bedroom apartment for the spring ( from mid january or early february to the end of may 2019 ) preferably close to central or harvard square but open to other areas in cambridge and boston .\n",
       "1476395932494344                                                                                                                                                                                                                                                                                                                                                                                                                                                                                                                                                                     hello ! i am a young professional looking for a furnished room in the watertown / allston / brighton / west cambridge area , but am open to other locations too . 1 - 3 female roommates would be great . about me - i am a recent college graduate starting a new position at a biotech startup in mid - late january . i don ’ t have pets but i love animals , and am very clean and courteous . please message me if you have something that could be a good fit !\n",
       "1466457496821521                                                                                                                                                                                                                                                                                                                                                                                                                                                                                                                                                                                                                                                                                                                                                                                            looking to sublet in boston starting in january 2019 going until the beginning of april . i am a newly graduated female moving to boston for work . i am clean and friendly . please message me if you have anything that might work . thanks !\n",
       "1491635264303744                                                                                                                                                                                                                                                                                                                                                                                                                                                                                                                                                                                                                                                                                                                                                                                                                                                    looking for a girl to sublet my fully furnished room this summer 2019 ( may - aug , dates flexible ) in the somerville / medford area . two great female roomies :) pm me if interested\n",
       "1446262758840995                                                                                                                                                                                                                                                                                                                                                                                                                                                                                                                                                                                                                                                                                                                                                                                                                                        i ’ m looking for a private room + private bathroom in a good and clean apartment . pet friendly as well . looking for something close to downtown boston or south boston with easy access to the t\n",
       "1484733391660598                                                                                                                                                                                                                                                                                                                                                                                                                                                                                                                                                                                                                                                                                                                                                                     looking for a furnished room from february through the end of may - anywhere in the back bay / south end / brookline / north end area as long as it ' s near a t / bus station . open to roommates of all kind but must be non - smokers , clean , and respectful ! :)\n",
       "1485364141597523                                                                                                                                                                                                                                                                                                                                                                                                                                                                                                                                                                                                                                                                                                                                                                                                                                  a coat of paint will ring in the new year with a fresh new look . whether it ’ s coating your walls with paint , adding color to your rooms , or decorating with molding now is the time to get it done !\n",
       "1485373281596609                                                                                                                                                                                                                                                                                                                                                                                                                                                                                                                                                                                                                                                                                                                                                                                                                                                                                                                                                                        https :// boston . craigslist . org / sob / abo / 6786766882 . html\n",
       "1484850914982179                                                                                                                                                                                                                                                                                                                                                                                                                                                                                                                                                                                                                                                           hi ! my friend devin matté and i are college students from new york who are going to be working in waltham this summer ( late may / early june through august ) and are looking for a place to sublet ! we ' re looking for 2br preferably in / near cambridge if possible , but location ( as well as price and timing ) is flexible . feel free to reach out to either of us !\n",
       "1484715751662362                                                                                                                                                                                                                                                                                                                                                                                                                                                                                                                                                                                                                                                                                                                                                                                                                                                                                                                                                                          my roomies and i are looking for someone to move in 2 / 1 / 19 !!\n",
       "1484741441659793                                                                                                                                                                                                                                                                                                                                                                                                                                                                                                                                                                                                                                                                                                              subleasing 1 bedroom in a 4 bed apt in the south end ( 225 e berkeley st ) -- rent 937 . 50 - great location - great roommates - no broker fee - fully furnished living room , and bedroom ( if needed ) - everything you need is walking distance https :// boston . craigslist . org /…/ boston - sout …/ 6785519902 . html\n",
       "1483229281811009                                                                                                                                                                                                                                                                                                                                                                                                                                                                                                                                                                                                                                                                                                                                                                       i ’ m looking for housing starting asap through the end of may , please let me know if anyone has anything . i ’ m looking at all offers , but need to be able to commute to northeastern on a daily basis . please dm me , hoping to look at places asap . thanks .\n",
       "1484601805007090                                                                                                                                                                                                                                                                                                                                                                                                                                                                                                                                                                                                                                                                                                                                                                        hey guys im over studying at north eastern for the semester from aus so was looking for a place in mission hill hopefully or close to campus had 2 places fall through so pretty urgent now wanting to move in this weekend if possible let me know what you have !\n",
       "1484092061724731                                                                                                                                                                                                                                                                                                                                                                                                                                                                                                                                                                  looking for a room starting the last week of january or first week of february . moving into the city from the suburbs for an internship that has potential of turning into a job . i have grant money and my internship is payed , so ideally looking for place between 700 - 800 ( cheaper always ideal ). i will be working around government center so a place near a t is ideal , doesn ' t have to be downtown . please message me with any question you may have .\n",
       "1483371128463491                                                                                                                                                                                                                                                                                                                                                                                                                                                                                                                                                                              hello everyone ! i recently accepted a position in boston , and will be moving from indiana . my job is close to downtown . i am looking to spend somewhere from 600 - 750 in rent . i am a very easy going individual , and respect roommates personal property , as well as quiet hours . i am open to commuting to work , if the rooms are not right downtown . i get along with just about anyone , so if you have a room / sublease please let me know !\n",
       "1484862418314362                                                                                                                                                                                                                                                                                                                                                                                                                                                                                                                                                                                                                                                                                                                                                               hey facebook ! seeking 1 roommate for a 2 bedroom near watertown square . check the info in the bio if you or a friend / family member is looking . feel free to text or give me a call @ 617 - 803 - 2335 if you have any questions or know of anyone interested . thanks !\n",
       "                                                                                                                                                                                                                                                                                                                                                                                                                                                                                                                                     ...                                                                                                                                                                                                                                                                                                                                                                                                                                                                                                                   \n",
       "1398733996958303                                                                                                                                                                                                                                                                                                                                                                                                                                                                                                                                                                                                                                                                                                                                                                                                                                                    conseguimos a melhor taxa e a aprovaçāo da sua casa própia em segundos . trabalhamos para você , trabalhamos por você . entre em contato hoje mesmo e realize o sonho da casa própria .\n",
       "1396982847133418                                                                                                                                                                                                                                                                                                                                                                                                                                                                                                                                                                                                                                                                                                                                                                                                                                                                i am looking for an english teacher for private lessons in boston - billerica . can you recommend someone ? if so , please send me a pm or email to hr @ eszett - bls . com\n",
       "1398638656967837                                                                                                                                                                                                                                                                                                                                                                                                                                                                                                                                                                                                                                                                                                                                                                                                                                                    conseguimos a melhor taxa e a aprovaçāo da sua casa própia em segundos . trabalhamos para você , trabalhamos por você . entre em contato hoje mesmo e realize o sonho da casa própria .\n",
       "1397591447072558                                                                                                                                                                                                                                                                                                                                                                                                                                                                                                                                                                                                                                                                                                                                                                                                                                                                                                                                                                                                                                           \n",
       "1396371000527936                                                                                                                                                                                                                                                                                                                                                                                                                                                                                                                                                                                                                                                                                                                                                                                                                                                                                                             get 65 % off on your next move , call for today an estimate or email : easygo . customer @ gmail . com www . easygomover . com\n",
       "1396367407194962                                                                                                                                                                                                                                                                                                                                                                                                                                                                                                                                                                                                                                                                                                                                                                                                                                                                                                                                     get 65 % off on your next move , call for today an estimate or email : easygo . customer @ gmail . com\n",
       "1395426220622414                                                                                                                                                                                                                                                                                                                                                                                                                                                                                                                                                                                                                                                                                                                                                                                                                                                                                                                                                                                                                                           \n",
       "1394644104033959                                                                                                                                                                                                                                                                                                                                                                                                                                                                                                                                                                                                                                                                                                                                                                                                                                                                                                    acesse hoje o nosso site e faça a simulação do financiamento do seu carro online . garantimos as melhores taxas do mercado . ligue já .\n",
       "1411612172337152                                                                                                                                                                                                                                                                                                                                                                                                                                                                                                                                                                                                                                                                                                                                                                                                                                                                                                                                                                                inchieiez camera in harlesden bils incluse mai multe detali\n",
       "1411520392346330                                                                                                                                                                                                                                                                                                                                                                                                                                                                                                                                                                                                                                                                                                                                                                                                                                                                                                                                                                                                                                           \n",
       "1411454019019634                                                                                                                                                                                                                                                                                                                                                                                                                                                                                                                                                                                                                                                                                                                                                                                                                                                                     o jean machado da tower home loans vai tirar todas as suas dúvidas sobre como fazer o financiamento ou refinanciamento da sua casa ! liga pra gente 781 - 363 - 9959 !\n",
       "1411242349040801                                                                                                                                                                                                                                                                                                                                                                                                                                                                                                                                                                                                                                                                                                                                                                                                                                                                                                                                                                                           please join this fun and family friendly group !\n",
       "1410794922418877                                                                                                                                                                                                                                                                                                                                                                                                                                                                                                                                                                                                                                                                                                                                                                                                                                                                                              temos vários imóveis excelentes , um deles é perfeito para você ! entre em contato com a gente hoje e faça o financiamento da sua casa nova .\n",
       "1410624785769224                                                                                                                                                                                                                                                                                                                                                                                                                                                                                                                                                                                                                                                                                                                                                                                                                                                                                                                                   professional , reliable . get low cost movers with a flat rate < peace of mind > www . easygomover . com\n",
       "1410512099113826                                                                                                                                                                                                                                                                                                                                                                                                                                                                                                                                                                                                                                                                                                                                                                                                                                                                                              temos vários imóveis excelentes , um deles é perfeito para você ! entre em contato com a gente hoje e faça o financiamento da sua casa nova .\n",
       "1393454734152896    bedroom with its own bathroom available on dec 12th until august 2019 . ( it ' s possible to renew the contract after august ). features : one large bedroom with a beautiful view . sharing a kitchen with two other nice roommates . furniture and items currently in the bedroom are not included but negotiable . facilities : internet and electricity are included . the laundry machine is in the building . ac and heater are also included . the apartment is on the 7th floor . this apartment has three bedrooms , but this room has its own bathroom . the other roommates are sharing their bathroom . this apartment has a living room . i ' ve been living here for a few months , however , i need to leave because my mother is sick so i need to go back to my country . the two other roommates are very friendly . i prefer to sublet this room with a girl so that the other roommates will be more comfortable . the two roommates like cooking so you probably can do the same thing if you love cooking sinc...\n",
       "1393231504175219                                                                                                                                                                                                                                                                                                                                                                                                                                                                                                                                                                                                                                                                                                                                                                                                                                                                                                                                                                                                             group showing today ! 3 to 4pm\n",
       "1392860174212352                                                                                                                                                               side jobs doing clean videos ... dancing a plus ... do you dress well & need cash for holidays guys ? part - time fun video side jobs for fall and on ........ men only only . <----------- make extra cash doing easy , fun videos ... starts . december 15th to february , maybe beyond ! last few days to apply !!! please read ad carefully ... not a professional job , just for fun . fairfield , connecticut . no travelling necessary ... be ages 19 to 45 or so . 34 waist or below , fit , good chest . if you play guitar or dance , you will get paid more . gig pays from 120 to 140 for about 25 to 30 minutes work . job details : \" dress in black dress pants w / jeans underneath & do your talent \" no xxx no nudity and no porn ever . recent full body pics and a reference video a must .... inbox me if interested ... only serious guys apply ! marc\n",
       "1392744720890564                                                                                                                                                                                                                                                                                                                                                                                                                                                                                                                                                                                                                                                                                                                                                                                                                                                                                                                                                                                                                                           \n",
       "1392705790894457                                                                                                                                                                                                                                                                                                                                                                                oi amigo ... vesti bem ? trabalho parte - tempo para homens brasileiros .... fazer videos divertidos e limpos ..... .... nada pornografia e nada xxx ou nudez !!! . ' ultima varga para janeiro 5 ate fevereiro 28 e mais a frente \" nao precisa viajar ... paga de 120 a 140 casa video ... algum brasileiro perto de fairfield , connecticut ?... com 19 a 45 anos de idade , bom fisico ? veste bem ? nada profisional e facil .. detales do trabalho : \" so vestir de calsas formal com jeans por baixo e fazer seu talento \" si danca e toca violao , paga mais ... vou precisar fotos recentes e videos de referencia ... por favor me avise ! marcus\n",
       "1391947874303582                                                                                                                                                                                                                                                                                                                                                                                                                                                                                                                                                                                                                                                                                                                                                                                                                                                                                                                                                                                                                                           \n",
       "1391944137637289                                                                                                                                                                                                                                                                                                                                                                                                                                                                                                                                                                                                                                                                                                                                                                                                                                                                                                                                                                                                                                           \n",
       "1391935634304806                                                                                                                                                                                                                                                                                                                                                                                                                                                                                                                                                                                                                                                                                                                                                                                                                                                                                                                                                                                                                                           \n",
       "1391850077646695                                                                                                                                                                                                                                                                                                                                                                                                                                                                                                                                                                                                                                                                                                                                                                                                                                                                                                                                                                                                                                           \n",
       "1391849774313392                                                                                                                                                                                                                                                                                                                                                                                                                                                                                                                                                                                                                                                                                                                                                                                                                                                                                                                                                                                                                                           \n",
       "1391424294355940                                                                                                                                                                                                                                                                                                                                                                                oi amigo ... vesti bem ? trabalho parte - tempo para homens brasileiros .... fazer videos divertidos e limpos ..... .... nada pornografia e nada xxx ou nudez !!! . ' ultima varga para janeiro 5 ate fevereiro 28 e mais a frente \" nao precisa viajar ... paga de 120 a 140 casa video ... algum brasileiro perto de fairfield , connecticut ?... com 19 a 45 anos de idade , bom fisico ? veste bem ? nada profisional e facil .. detales do trabalho : \" so vestir de calsas formal com jeans por baixo e fazer seu talento \" si danca e toca violao , paga mais ... vou precisar fotos recentes e videos de referencia ... por favor me avise ! marcus\n",
       "1390930937738609                                                                                                                                                                                                                                                                                                                                                                                oi amigo ... vesti bem ? trabalho parte - tempo para homens brasileiros .... fazer videos divertidos e limpos ..... .... nada pornografia e nada xxx ou nudez !!! . ' ultima varga para janeiro 5 ate fevereiro 28 e mais a frente \" nao precisa viajar ... paga de 120 a 140 casa video ... algum brasileiro perto de fairfield , connecticut ?... com 19 a 45 anos de idade , bom fisico ? veste bem ? nada profisional e facil .. detales do trabalho : \" so vestir de calsas formal com jeans por baixo e fazer seu talento \" si danca e toca violao , paga mais ... vou precisar fotos recentes e videos de referencia ... por favor me avise ! marcus\n",
       "1390647344433635                                                                                                                                                                                                                                                                                                                                                                                oi amigo ... vesti bem ? trabalho parte - tempo para homens brasileiros .... fazer videos divertidos e limpos ..... .... nada pornografia e nada xxx ou nudez !!! . ' ultima varga para janeiro 5 ate fevereiro 28 e mais a frente \" nao precisa viajar ... paga de 120 a 140 casa video ... algum brasileiro perto de fairfield , connecticut ?... com 19 a 45 anos de idade , bom fisico ? veste bem ? nada profisional e facil .. detales do trabalho : \" so vestir de calsas formal com jeans por baixo e fazer seu talento \" si danca e toca violao , paga mais ... vou precisar fotos recentes e videos de referencia ... por favor me avise ! marcus\n",
       "1412332365598466                                                                                                                                                                                                                                                                                                                                                                                                                                                                                                                                                                                                                                                                                                                                                                                                             newton 近绿线d 地铁站房间出租从2 ⃣🈷 份开始 ， 全美最安全的区之一 ， 步行2 ⃣ 分钟到地铁站 ， 5 ⃣ 分钟内各种风味美食 ， 邮局银行 ， 24小时7 / 11 ， 2 ⃣ 人共用一卫浴间安静卫生 ， 家具齐全高速上网洗衣服免费 ， 杂费全包拎包入住 ， 去bc 、 lasell , hebrew , 音樂學院大学非常近 ， 绿线d地铁方便出行 ， 有須要的請短信或電話917 - 375 - 9577陳先生謝謝大家 🤗\n",
       "1411953015636401                                                                                                                                                                                                                                                                                                                                                                                                                                                                                                                                                                                                                                                                                                                                                                                                                                                                                        免中介费 ： malden center二房一厅公寓出租 ， 就在中小学对面 ， 地铁走路4分钟 ， 随时入住 ！ 杂费全包 ！{ 1月份免房租只要出杂费 ！} 欢迎不抽烟不宠物人士 ！ 917 - 443 - 8122 646 - 886 - 9919另有单间出租地铁走路7分钟杂费全包550\n",
       "Name: text, Length: 613, dtype: object"
      ]
     },
     "execution_count": 25,
     "metadata": {},
     "output_type": "execute_result"
    }
   ],
   "source": [
    "pd.set_option('display.max_colwidth', 1000)\n",
    "df[df.price.isna()].text"
   ]
  },
  {
   "cell_type": "markdown",
   "metadata": {},
   "source": [
    "Some is okayish but mostly trash, delete"
   ]
  },
  {
   "cell_type": "code",
   "execution_count": 26,
   "metadata": {},
   "outputs": [],
   "source": [
    "df = df[df.price.notna()]"
   ]
  },
  {
   "cell_type": "markdown",
   "metadata": {},
   "source": [
    "Refine dataset"
   ]
  },
  {
   "cell_type": "code",
   "execution_count": 27,
   "metadata": {},
   "outputs": [],
   "source": [
    "import matplotlib.pyplot as plt\n",
    "\n",
    "# We will use the Seaborn library\n",
    "import seaborn as sns\n",
    "sns.set()"
   ]
  },
  {
   "cell_type": "code",
   "execution_count": 28,
   "metadata": {},
   "outputs": [
    {
     "data": {
      "image/png": "[encoded data removed]",
      "text/plain": [
       "<Figure size 432x288 with 1 Axes>"
      ]
     },
     "metadata": {
      "needs_background": "light"
     },
     "output_type": "display_data"
    }
   ],
   "source": [
    "sns.boxplot(df.price);"
   ]
  },
  {
   "cell_type": "code",
   "execution_count": 29,
   "metadata": {},
   "outputs": [
    {
     "data": {
      "text/plain": [
       "_id\n",
       "1842771989165994    fully renovated single family near quincy center . 1500 + sf 2bed 1 1 / 2bath potential 1 or 2 bedroom in basement optional . brand new electrical plumbing hvac heat / ac spray foam insulation new siding new kitchen and bath detach car garage . still working on . can be delivered around end of jan . still has chance for you to select finishes and customize new construction condo .. in near quincy center ... quiet area ..\n",
       "1409990622499307                                                                                                                                                                                                                                                                                                                                                                                                                2 bed 2 bath condo 1350 sqft\n",
       "1397538513744518                                                                                                                                                                                                                                                       17 sunnyside ave . burlington ma . all new and renovated move in ready . 2500 sqf 4 bed 2 bath 1 car garage . living room dinning room family room and laundry room . central a / c .\n",
       "Name: text, dtype: object"
      ]
     },
     "execution_count": 29,
     "metadata": {},
     "output_type": "execute_result"
    }
   ],
   "source": [
    "df[df.price > 500000].text "
   ]
  },
  {
   "cell_type": "code",
   "execution_count": 30,
   "metadata": {},
   "outputs": [
    {
     "data": {
      "image/png": "[encoded data removed]",
      "text/plain": [
       "<Figure size 432x288 with 1 Axes>"
      ]
     },
     "metadata": {
      "needs_background": "light"
     },
     "output_type": "display_data"
    }
   ],
   "source": [
    "sns.boxplot(df[df.price < 10000].price);"
   ]
  },
  {
   "cell_type": "code",
   "execution_count": 31,
   "metadata": {},
   "outputs": [
    {
     "data": {
      "text/html": [
       "<div>\n",
       "<style scoped>\n",
       "    .dataframe tbody tr th:only-of-type {\n",
       "        vertical-align: middle;\n",
       "    }\n",
       "\n",
       "    .dataframe tbody tr th {\n",
       "        vertical-align: top;\n",
       "    }\n",
       "\n",
       "    .dataframe thead th {\n",
       "        text-align: right;\n",
       "    }\n",
       "</style>\n",
       "<table border=\"1\" class=\"dataframe\">\n",
       "  <thead>\n",
       "    <tr style=\"text-align: right;\">\n",
       "      <th></th>\n",
       "      <th>text</th>\n",
       "      <th>price</th>\n",
       "    </tr>\n",
       "    <tr>\n",
       "      <th>_id</th>\n",
       "      <th></th>\n",
       "      <th></th>\n",
       "    </tr>\n",
       "  </thead>\n",
       "  <tbody>\n",
       "    <tr>\n",
       "      <th>1480875522046385</th>\n",
       "      <td>2 bed 1 bath available for rent in a 4 bedroom apartment in waltham , ma 2 / 1 / 19 . 1 bed is $ 800 2nd is $ 775 no pets allowed , laundry in basement . rooms will be unfurnished . snow removal included , free off street parking with room . 1st month and security upfront required . close to mbta , moody st ( bars and restaurants ), 7 min from riverside green line stop ! willing to flex with move in date if needed sooner - message me or liz sieracki for more details or if interested .</td>\n",
       "      <td>8002.0</td>\n",
       "    </tr>\n",
       "    <tr>\n",
       "      <th>1829066197203240</th>\n",
       "      <td>excellent condition ! 68k miles ! backup camera ! works like brand new car and doesn ’ t need a single dollar on anything ! super clean , well maintained and in fantastic condition ! random quotes and time wasters stay away ! priced so low as it needs gone soon ! price is non - negotiable . serious buyers only . no discussions on price .</td>\n",
       "      <td>9800.0</td>\n",
       "    </tr>\n",
       "    <tr>\n",
       "      <th>1860610950715431</th>\n",
       "      <td>clean carfax and title ! super clean car ! everything works like brand new car and doesn ’ t need a single penny on anything my personal car which have maintained very nicely and overall an excellent car ready to go !</td>\n",
       "      <td>9800.0</td>\n",
       "    </tr>\n",
       "    <tr>\n",
       "      <th>1859101000866426</th>\n",
       "      <td>clean carfax and title ! super clean car ! everything works like brand new car and doesn ’ t need a single penny on anything my personal car which have maintained very nicely and overall an excellent car ready to go !</td>\n",
       "      <td>9800.0</td>\n",
       "    </tr>\n",
       "    <tr>\n",
       "      <th>1858203280956198</th>\n",
       "      <td>excellent condition ! 68k miles ! backup camera ! works like brand new car and doesn ’ t need a single dollar on anything ! super clean , well maintained and in fantastic condition ! random quotes and time wasters stay away ! priced so low as it needs gone soon ! price is non - negotiable . serious buyers only . no discussions on price .</td>\n",
       "      <td>9800.0</td>\n",
       "    </tr>\n",
       "    <tr>\n",
       "      <th>1863097087133484</th>\n",
       "      <td>super clean car ! everything works like brand new car and doesn ’ t need a single penny on anything my personal car . i am not a dealer . have maintained very nicely and overall an excellent car ready to go ! clean title and carfax !</td>\n",
       "      <td>9800.0</td>\n",
       "    </tr>\n",
       "    <tr>\n",
       "      <th>1826590944117432</th>\n",
       "      <td>brand new construction - luxury 6 bed / 2 bath - huge place . brand new construction !! two full baths , hardwood floors , deck . 6 bedrooms with ... cable and high speed internet ready . the modern kitchen comes with new stainless steel refrigerator , stove , dishwasher , microwave and granite counter top and is lined with wonderful custom cabinets ... laundry in unit ! private deck ! parking available ! rental features central air conditioning central heat hardwood floor tile floor living room dishwasher refrigerator stove / oven microwave granite countertop stainless steel appliances free washer / dryer cable - ready must see to believe ! call lydia @ 617 - 669 - 7334 to schedule a showing .</td>\n",
       "      <td>8100.0</td>\n",
       "    </tr>\n",
       "    <tr>\n",
       "      <th>1410867389078297</th>\n",
       "      <td>clean carfax and title ! super clean car ! everything works like brand new car and doesn ’ t need a single penny on anything my personal car ( i am not a dealer ), which have maintained very nicely and overall an excellent car ready to go !</td>\n",
       "      <td>9800.0</td>\n",
       "    </tr>\n",
       "    <tr>\n",
       "      <th>1409560145875688</th>\n",
       "      <td>clean carfax and title ! super clean car ! everything works like brand new car and doesn ’ t need a single penny on anything my personal car which have maintained very nicely and overall an excellent car ready to go !</td>\n",
       "      <td>9800.0</td>\n",
       "    </tr>\n",
       "    <tr>\n",
       "      <th>1409242612574108</th>\n",
       "      <td>excellent condition ! 68k miles ! backup camera ! works like brand new car and doesn ’ t need a single dollar on anything ! super clean , well maintained and in fantastic condition ! random quotes and time wasters stay away ! priced so low as it needs gone soon ! price is non - negotiable . serious buyers only . no discussions on price .</td>\n",
       "      <td>9800.0</td>\n",
       "    </tr>\n",
       "    <tr>\n",
       "      <th>1408940689270967</th>\n",
       "      <td></td>\n",
       "      <td>8900.0</td>\n",
       "    </tr>\n",
       "    <tr>\n",
       "      <th>1410873665744336</th>\n",
       "      <td>9 bed 3 bath apartment on lawn street in mission hill / fort hill for 9 / 1 / 2019 move in for $ 9000 / month - $ 1000 / month per room - no broker fees find a group of 9 - 11 people and rent the whole apartment for $ 9000 / month - no broker fee unit 1 is a 3 - bed 1 - bath with : living and dining room with laundry in unit central ac - hardwood floors rear porch outdoors - kitchen with dishwasher disposal and fridge stainless steel appliances and granite countertops recent gut renovation both street and driveway parking is available central hvac and forced hot air large flat screen tv mounted on the wall close to green and orange line t stops unit 2 is a 6 - bed 2 - bath living room dining room laundry in basement central ac hardwood floors rear porch stainless steel appliances with dishwasher , disposal , fridge granite countertops driveway parking available for additional mounted 70 - inch 4k smart tv</td>\n",
       "      <td>9000.0</td>\n",
       "    </tr>\n",
       "    <tr>\n",
       "      <th>1393353887496314</th>\n",
       "      <td>brand new construction - luxury 6 bed / 2 bath - huge place . brand new construction !! two full baths , hardwood floors , deck . 6 bedrooms with ... cable and high speed internet ready . the modern kitchen comes with new stainless steel refrigerator , stove , dishwasher , microwave and granite counter top and is lined with wonderful custom cabinets ... laundry in unit ! private deck ! parking available ! rental features central air conditioning central heat hardwood floor tile floor living room dishwasher refrigerator stove / oven microwave granite countertop stainless steel appliances free washer / dryer cable - ready must see to believe ! call lydia @ 617 - 669 - 7334 to schedule a showing .</td>\n",
       "      <td>8100.0</td>\n",
       "    </tr>\n",
       "  </tbody>\n",
       "</table>\n",
       "</div>"
      ],
      "text/plain": [
       "                                                                                                                                                                                                                                                                                                                                                                                                                                                                                                                                                                                                                                                                                                                                                                                                                                                                                                                                                                    text  \\\n",
       "_id                                                                                                                                                                                                                                                                                                                                                                                                                                                                                                                                                                                                                                                                                                                                                                                                                                                                                                                                                                        \n",
       "1480875522046385                                                                                                                                                                                                                                                                                                                                                                                                                                               2 bed 1 bath available for rent in a 4 bedroom apartment in waltham , ma 2 / 1 / 19 . 1 bed is $ 800 2nd is $ 775 no pets allowed , laundry in basement . rooms will be unfurnished . snow removal included , free off street parking with room . 1st month and security upfront required . close to mbta , moody st ( bars and restaurants ), 7 min from riverside green line stop ! willing to flex with move in date if needed sooner - message me or liz sieracki for more details or if interested .   \n",
       "1829066197203240                                                                                                                                                                                                                                                                                                                                                                                                                                                                                                                                                                                                     excellent condition ! 68k miles ! backup camera ! works like brand new car and doesn ’ t need a single dollar on anything ! super clean , well maintained and in fantastic condition ! random quotes and time wasters stay away ! priced so low as it needs gone soon ! price is non - negotiable . serious buyers only . no discussions on price .   \n",
       "1860610950715431                                                                                                                                                                                                                                                                                                                                                                                                                                                                                                                                                                                                                                                                                                                               clean carfax and title ! super clean car ! everything works like brand new car and doesn ’ t need a single penny on anything my personal car which have maintained very nicely and overall an excellent car ready to go !   \n",
       "1859101000866426                                                                                                                                                                                                                                                                                                                                                                                                                                                                                                                                                                                                                                                                                                                               clean carfax and title ! super clean car ! everything works like brand new car and doesn ’ t need a single penny on anything my personal car which have maintained very nicely and overall an excellent car ready to go !   \n",
       "1858203280956198                                                                                                                                                                                                                                                                                                                                                                                                                                                                                                                                                                                                     excellent condition ! 68k miles ! backup camera ! works like brand new car and doesn ’ t need a single dollar on anything ! super clean , well maintained and in fantastic condition ! random quotes and time wasters stay away ! priced so low as it needs gone soon ! price is non - negotiable . serious buyers only . no discussions on price .   \n",
       "1863097087133484                                                                                                                                                                                                                                                                                                                                                                                                                                                                                                                                                                                                                                                                                                               super clean car ! everything works like brand new car and doesn ’ t need a single penny on anything my personal car . i am not a dealer . have maintained very nicely and overall an excellent car ready to go ! clean title and carfax !   \n",
       "1826590944117432                                                                                                                                                                                                                         brand new construction - luxury 6 bed / 2 bath - huge place . brand new construction !! two full baths , hardwood floors , deck . 6 bedrooms with ... cable and high speed internet ready . the modern kitchen comes with new stainless steel refrigerator , stove , dishwasher , microwave and granite counter top and is lined with wonderful custom cabinets ... laundry in unit ! private deck ! parking available ! rental features central air conditioning central heat hardwood floor tile floor living room dishwasher refrigerator stove / oven microwave granite countertop stainless steel appliances free washer / dryer cable - ready must see to believe ! call lydia @ 617 - 669 - 7334 to schedule a showing .   \n",
       "1410867389078297                                                                                                                                                                                                                                                                                                                                                                                                                                                                                                                                                                                                                                                                                                        clean carfax and title ! super clean car ! everything works like brand new car and doesn ’ t need a single penny on anything my personal car ( i am not a dealer ), which have maintained very nicely and overall an excellent car ready to go !   \n",
       "1409560145875688                                                                                                                                                                                                                                                                                                                                                                                                                                                                                                                                                                                                                                                                                                                               clean carfax and title ! super clean car ! everything works like brand new car and doesn ’ t need a single penny on anything my personal car which have maintained very nicely and overall an excellent car ready to go !   \n",
       "1409242612574108                                                                                                                                                                                                                                                                                                                                                                                                                                                                                                                                                                                                     excellent condition ! 68k miles ! backup camera ! works like brand new car and doesn ’ t need a single dollar on anything ! super clean , well maintained and in fantastic condition ! random quotes and time wasters stay away ! priced so low as it needs gone soon ! price is non - negotiable . serious buyers only . no discussions on price .   \n",
       "1408940689270967                                                                                                                                                                                                                                                                                                                                                                                                                                                                                                                                                                                                                                                                                                                                                                                                                                                                                                                                                           \n",
       "1410873665744336  9 bed 3 bath apartment on lawn street in mission hill / fort hill for 9 / 1 / 2019 move in for $ 9000 / month - $ 1000 / month per room - no broker fees find a group of 9 - 11 people and rent the whole apartment for $ 9000 / month - no broker fee unit 1 is a 3 - bed 1 - bath with : living and dining room with laundry in unit central ac - hardwood floors rear porch outdoors - kitchen with dishwasher disposal and fridge stainless steel appliances and granite countertops recent gut renovation both street and driveway parking is available central hvac and forced hot air large flat screen tv mounted on the wall close to green and orange line t stops unit 2 is a 6 - bed 2 - bath living room dining room laundry in basement central ac hardwood floors rear porch stainless steel appliances with dishwasher , disposal , fridge granite countertops driveway parking available for additional mounted 70 - inch 4k smart tv   \n",
       "1393353887496314                                                                                                                                                                                                                         brand new construction - luxury 6 bed / 2 bath - huge place . brand new construction !! two full baths , hardwood floors , deck . 6 bedrooms with ... cable and high speed internet ready . the modern kitchen comes with new stainless steel refrigerator , stove , dishwasher , microwave and granite counter top and is lined with wonderful custom cabinets ... laundry in unit ! private deck ! parking available ! rental features central air conditioning central heat hardwood floor tile floor living room dishwasher refrigerator stove / oven microwave granite countertop stainless steel appliances free washer / dryer cable - ready must see to believe ! call lydia @ 617 - 669 - 7334 to schedule a showing .   \n",
       "\n",
       "                   price  \n",
       "_id                       \n",
       "1480875522046385  8002.0  \n",
       "1829066197203240  9800.0  \n",
       "1860610950715431  9800.0  \n",
       "1859101000866426  9800.0  \n",
       "1858203280956198  9800.0  \n",
       "1863097087133484  9800.0  \n",
       "1826590944117432  8100.0  \n",
       "1410867389078297  9800.0  \n",
       "1409560145875688  9800.0  \n",
       "1409242612574108  9800.0  \n",
       "1408940689270967  8900.0  \n",
       "1410873665744336  9000.0  \n",
       "1393353887496314  8100.0  "
      ]
     },
     "execution_count": 31,
     "metadata": {},
     "output_type": "execute_result"
    }
   ],
   "source": [
    "df[(df.price > 8000)&(df.price < 10000)][['text', 'price']]"
   ]
  },
  {
   "cell_type": "markdown",
   "metadata": {},
   "source": [
    "Still trash"
   ]
  },
  {
   "cell_type": "code",
   "execution_count": 32,
   "metadata": {},
   "outputs": [
    {
     "data": {
      "image/png": "[encoded data removed]",
      "text/plain": [
       "<Figure size 432x288 with 1 Axes>"
      ]
     },
     "metadata": {
      "needs_background": "light"
     },
     "output_type": "display_data"
    }
   ],
   "source": [
    "sns.boxplot(df[df.price < 5000].price);"
   ]
  },
  {
   "cell_type": "code",
   "execution_count": 33,
   "metadata": {},
   "outputs": [
    {
     "data": {
      "text/plain": [
       "_id\n",
       "1480217192112218                                                                                                                                                                                                                                                                                                                                                                                                                                                                                                                                                                                                                             spot available for one male in a 2bed 2bath apartment at peterborough street . lease starting from january 20th to july 31 , 2019 . apartment details : rent : $ 617 1 . 10 min walk to northeastern university 2 . 1min walk to target and star market 3 . 5min walk to fenway t station 4 . 5 min walk to cvs 5 . 1min walk to bus stop 6 . friendly flatmates 7 . in house laundry please pm me for details\n",
       "1488059104661360    hello ! i am a current resident at the luxury watermark in the seaport and my roommate and i are looking to move out at the end of march , which means we are in need of someone to take over our lease for april 1 ( 4 / 1 ). the lease runs until the end of august , and you would have the possibility to renew ( note that our rent is much lower than is typical here ). while we pay $ 4404 a month , current two bed / two bath apartments are going for $ 2000 - 4000 more . this apartment and building are truly gorgeous , and if you ’ re looking to find a better price place in the seaport , you won ’ t . the apartment itself is two bedrooms , both shown in the photos . the master bedroom has an en - suite and the second bedroom has a walk - in closet . both bathrooms are a great size . the living space is also a good size , with giant windows that let in a lot of light . the kitchen has a lot of storage , a big island , and stainless steel appliances . there is laundry in the unit . the bui...\n",
       "1487774814689789    hey , are you looking for three bedroom near neu and berklee ? here is a good place for you ! this unit is renovated and clean and has laundry in unit ! no broker fee ! [ location info ( walking distance )] 6 min from northeastern university 6 min berklee college of music 5 min from symphony station ( green line / e ) 9 min from massachusetts ave station ( orange line ) 7 minutes from whole foods market , star market , prudential [ details ] new / renovated kitchen and bath disposal granite counter tops laundry in unit hot water is included . [ contact info ] phone number : 8572727450 email address : jane @ bostonmovesre . com feel free to contact me if you ’ re interested in ! jane @ bostonmovesre . com , this is my email address and you can contact me anytime !!! 안녕하세요 , 노스이스턴 대학교와 버클리 주변 3 베드룸 나왔습니다 ! 레노베잇돼서 굉장히 깨끗한 유닛이 4500불 ( 한 분 당 1500불 ) 에 나왔습니다 ! 세탁기 , 건조기가 유닛 안에 있어서 빨래방을 가거나 하시는 일 없습니다 . 브로커 피 안 내셔도 됩니다 . [ 위치 정보 ( 도보 기준 )] 노스이스턴 대학까지 6분 버클리까지 6분 심포니 역 ( 그린 라인 / e ) 까지 5분 ...\n",
       "1487775014689769    hey , are you looking for three bedroom near neu and berklee ? here is a good place for you ! this unit is renovated and clean and has laundry in unit ! no broker fee ! [ location info ( walking distance )] 6 min from northeastern university 6 min berklee college of music 5 min from symphony station ( green line / e ) 9 min from massachusetts ave station ( orange line ) 7 minutes from whole foods market , star market , prudential [ details ] new / renovated kitchen and bath disposal granite counter tops laundry in unit hot water is included . [ contact info ] phone number : 8572727450 email address : jane @ bostonmovesre . com feel free to contact me if you ’ re interested in ! jane @ bostonmovesre . com , this is my email address and you can contact me anytime !!! 안녕하세요 , 노스이스턴 대학교와 버클리 주변 3 베드룸 나왔습니다 ! 레노베잇돼서 굉장히 깨끗한 유닛이 4500불 ( 한 분 당 1500불 ) 에 나왔습니다 ! 세탁기 , 건조기가 유닛 안에 있어서 빨래방을 가거나 하시는 일 없습니다 . 브로커 피 안 내셔도 됩니다 . [ 위치 정보 ( 도보 기준 )] 노스이스턴 대학까지 6분 버클리까지 6분 심포니 역 ( 그린 라인 / e ) 까지 5분 ...\n",
       "1485583754908895                                                                                                                                                                                                                                                                                                                                                                                                                                                                                                                                                                                                                                                                                                                                             amazing 6 bed / 2 bath on hillside st . available 9 / 1 / 19 $ 6 , 200 / month excellent open spaces spacious kitchen with granite modern bathrooms hardwood floors large bedrooms back deck central ac in - unit laundry dishwasher , microwave , refrigerator near neu , wentworth & simmons\n",
       "1485583944908876                                                                                                                                                                                                                                                                                                                                                                                                                                                                                                                                                                                                                                                                                                                                                                            amazing 6 bed / 2 bath on hillside st . available 9 / 1 / 19 $ 6 , 200 / month excellent open spaces spacious kitchen with granite modern bathrooms hardwood floors large bedrooms back deck central ac in - unit laundry dishwasher , microwave , refrigerator\n",
       "1485453591588578                                                                                                                                                                                                                                                                                                                                                                                                                                                                                                                                                                                                                                                                                                                                                                        huge 5 bed / 3 bath on saint alphonsus st . stunning renovations spacious kitchen gas fireplace quartz countertops stainless steel appliances parking available for rent dishwasher , disposal , microwave & fridge hardwood floors central a / c in - unit laundry\n",
       "1485453761588561                                                                                                                                                                                                                                                                                                                                                                                                                                                                                                                                                                                                                                                                                                                                                                        huge 5 bed / 3 bath on saint alphonsus st . stunning renovations spacious kitchen gas fireplace quartz countertops stainless steel appliances parking available for rent dishwasher , disposal , microwave & fridge hardwood floors central a / c in - unit laundry\n",
       "1485411271592810                                                                                                                                                                                                                                                                                                                                                                                                                                                                                                                                                                                                                                                                                                                                                              spacious 7 bed / 3 bath on hillside st in mission $ 6 , 400 / month available 9 / 1 / 19 recently renovated stainless steel appliances outdoor back porch large bedrooms parking available dishwasher , disposal , fridge hardwood floors on - site laundry large living room\n",
       "1485412101592727                                                                                                                                                                                                                                                                                                                                                                                                                                                                                                                                                                                                                                                                                                                                                              spacious 7 bed / 3 bath on hillside st in mission $ 6 , 400 / month available 9 / 1 / 19 recently renovated stainless steel appliances outdoor back porch large bedrooms parking available dishwasher , disposal , fridge hardwood floors on - site laundry large living room\n",
       "1484656191668318                                                                                                                                                                                                                                                                                                                                                                                                                                                                                                                                                                                                                                                                                                                                                                                                         hi everyone , i know typically people are looking for studio / one / two bedroom apartments . but i know of a 7 bedroom apartment over by boston college for rent ! $ 7800 laundry in unit , with central air . back yard and deck\n",
       "1490915511042386                                                                                                                                                                                                                                                                                                                          4b / 2b in allston area , near super88 markert 4950 / month ( 1237 . 5 per person ) cats allowed . available from 9 / 1 / 2019 beautiful modern units with spacious layouts . recent renovation . large bedrooms . stainless steel kitchens with granite counter tops . marble tile bathrooms . central a / c and heat . bamboo hardwood floors . awesome location . all units recently repainted with modern benjamin moore colors . bus : 66 , harvard ave @ brighton ave ( 0 . 24 mi ) tram : b , packards corner ( 0 . 23 mi ) bus : 57 , brighton ave @ linden st ( 0 . 15 mi ) bus : 64 , cambridge st @ linden st ( 0 . 20 mi ) feel free to pm me directly or text 7813339638 or chirong499 @ gmail . com\n",
       "1490843511049586                                                                                                                                                                                                                                                                                                                                                                                                                                                                                                                                                                 4b1b in longwood area recommend mcphs , mass art , wentworth , neu students 4500 $/ per month ( 1125 $ each person ) available from 9 / 1 / 2019 description : large 4 bedroom apartment with hardwood floors , private deck , laundry in unit . eat in kitchen with pantry . great location with views over fitzgerald park . stop & shop in 5 mins usps in 5 mins bringham circle station ( e line ) in 5 mins feel free to pm me directly or text me : 702 - 292 - 8539\n",
       "1490135937787010    hey , are you looking for three bedroom near neu and berklee ? here is a good place for you ! this unit is renovated and clean and has laundry in unit ! no broker fee ! [ location info ( walking distance )] 6 min from northeastern university 6 min berklee college of music 5 min from symphony station ( green line / e ) 9 min from massachusetts ave station ( orange line ) 7 minutes from whole foods market , star market , prudential [ details ] new / renovated kitchen and bath disposal granite counter tops laundry in unit hot water is included . [ contact info ] phone number : 8572727450 email address : jane @ bostonmovesre . com feel free to contact me if you ’ re interested in ! jane @ bostonmovesre . com , this is my email address and you can contact me anytime !!! 안녕하세요 , 노스이스턴 대학교와 버클리 주변 3 베드룸 나왔습니다 ! 레노베잇돼서 굉장히 깨끗한 유닛이 4300불 ( 한 분 당 약 1430불 ) 에 나왔습니다 ! 세탁기 , 건조기가 유닛 안에 있어서 빨래방을 가거나 하시는 일 없습니다 . 브로커 피 안 내셔도 됩니다 . [ 위치 정보 ( 도보 기준 )] 노스이스턴 대학까지 6분 버클리까지 6분 심포니 역 ( 그린 라인 / e ) 까지 5...\n",
       "1829504643826062                                                                                                                                                                                                                                                                                                                                                                                                                                                                                                                                                                    students look no further - check this awesome 5 bed 2 bath duplex , located in the oak square area of brighton . gorgeous top of the line kitchen , fully appliance with stainless steel , quartz counters , nice size living room , gleaming hardwood floors throughout , w / d in unit , pet friendly , central a / c , front porch and shared yard . easy access to hunnewell park and public transportation . call lydia @ 617 - 669 - 7334 to schedule a showing .\n",
       "1829504530492740                                                                                                                                                                                                                                                                                                                                                                                                                                                                                                                                                                    students look no further - check this awesome 5 bed 2 bath duplex , located in the oak square area of brighton . gorgeous top of the line kitchen , fully appliance with stainless steel , quartz counters , nice size living room , gleaming hardwood floors throughout , w / d in unit , pet friendly , central a / c , front porch and shared yard . easy access to hunnewell park and public transportation . call lydia @ 617 - 669 - 7334 to schedule a showing .\n",
       "1828015030641690                                                                                                                                                                                                                                                                                                                                         this is a single family home and is available for rent . the lease can start now , january 1st , feb , march april may or june 1st . features : ● single family house for privacy ● completely gut renovated ● 6 bedrooms and 5 full baths ( plus bonus room ) ● approximately 2 , 000 sq / ft ● less than one mile to tufts ● off street parking in driveway ● high - end finishes throughout ● stainless steel appliances and granite counter - tops in kitchen and baths ● hardwood floors ● in - unit laundry ● small pets welcome message amber jay for more information or a showing . text 617 - 281 - 3333 . i am a ma licensed real estate agent working for a small boutique brokerage .\n",
       "1827618827347977                                                                                                                                                                                                                                                                                                                                                                                                                                                                                  4 bedroom apartment with 2 . 5 bathrooms located in kenmore square , just minutes from fenway park . $ 4700 includes heat and hot water . one of the best locations in boston . close to b . u ., berklee , mit , and several area colleges and universities . on the green line offering easy access to downtown boston and everywhere in the city . laundry in the building . * bring your cat ! call ( 617 ) 637 - 7657 to schedule a showing . *** i have several apartments available in boston and surrounding cities - let me know what you need .\n",
       "1826600040783189                                                                                                                                                                                                                                                                                                                                                                                           central a / c ceramic tiles deck dishwasher disposal duplex eat - in kitchen granite counter tops hardwood floors high ceiling laundry in building marble bath microwave modern bath modern kitchen new appliances new / renovated bath new / renovated kitchen porch separate kitchen stainless steel appliance ( s ) area amenities : northeastern , wentworth , simmons , emanuel , longwood medical , mass college of pharmacy , beth israel hospital , jp licks , commercial banks , stop and shop , walgreens , numerous mbta bus routes , mission hill , the orange line , and more ! call lydia 617 - 669 - 7334 to schedule a showing .\n",
       "1825392680903925                                                                                                                                                                                                                                                                                                                                                                                                                                                                                                                                                                   extremely nice 5 bed 3 bath available near northeastern ! features central ac , as well as a living room and open kitchen complete with a dishwasher , disposal , microwave , and gas range . the unit has a back porch , parking is available , and there is a gas fireplace in unit . located near northeastern , longwood medical , crispy dough , milkweed , and stop and shop ! i do have more 3 , 4 , and 5 + beds available . call trevor to schedule a showing !\n",
       "1859128750863651                                                                                                                                                                                                                                                                                                                                                                                                                                                                                                                                                                                                                                                      please email me if you ' re interested : [ hidden information ] located on pratt street in allston september 1st move - in students ok 6 - bedrooms 2 - bathrooms recently renovated deck large rooms central air probably one of the most affordable apartments this close to boston university , don ' t miss out ! please email me if you ' re interested : [ hidden information ]\n",
       "1859024757540717                                                                                                                                                                                                                                                                                                                                                                                       september students rent now before they are all gone ! 4 beds / 1 bath with a living room located in the south end . laundry in unit , wall a / c pet friendly off street parking for $ 75 per spot . exposed brick , high ceilings , galley kitchen fully appliance . hardwood floors . heat and hot water included . area amenities : back bay , south end , fine restaurants , foodies market , starbucks , upper crust pizza , gorgeous parks , easy access to i - 90 and i - 95 , target , stop and shop , best buy , copley mall , tufts and bu medical , the flower exchange and more ! call lydia @ 617 - 669 - 7334 to schedule a showing .\n",
       "1859024724207387                                                                                                                                                                                                                                                                                                                                                                                       september students rent now before they are all gone ! 4 beds / 1 bath with a living room located in the south end . laundry in unit , wall a / c pet friendly off street parking for $ 75 per spot . exposed brick , high ceilings , galley kitchen fully appliance . hardwood floors . heat and hot water included . area amenities : back bay , south end , fine restaurants , foodies market , starbucks , upper crust pizza , gorgeous parks , easy access to i - 90 and i - 95 , target , stop and shop , best buy , copley mall , tufts and bu medical , the flower exchange and more ! call lydia @ 617 - 669 - 7334 to schedule a showing .\n",
       "1859005784209281                                                                                                                                                                                                                                                                                                                                                                                                     gorgeous completely renovated 6 bed , 2 bath with a nice sunny living room , designer kitchen with sleek white cabinets , granite counters , gleaming hardwood floors , recessed lighting , multiple levels , exposed brick , tons of windows , central a / c for those hot nights , and laundry in unit . area amenities : northeastern , wentworth , simmons , emanuel , longwood medical , mass college of pharmacy , beth israel hospital , jp licks , commercial banks , stop and shop , walgreens , numerous mbta bus routes , mission hill , the orange line , and more ! call lydia @ 617 - 669 - 7334 to schedule a showing .\n",
       "1859005410875985                                                                                                                                                                                                                                                                                                                                                                                                     gorgeous completely renovated 6 bed , 2 bath with a nice sunny living room , designer kitchen with sleek white cabinets , granite counters , gleaming hardwood floors , recessed lighting , multiple levels , exposed brick , tons of windows , central a / c for those hot nights , and laundry in unit . area amenities : northeastern , wentworth , simmons , emanuel , longwood medical , mass college of pharmacy , beth israel hospital , jp licks , commercial banks , stop and shop , walgreens , numerous mbta bus routes , mission hill , the orange line , and more ! call lydia @ 617 - 669 - 7334 to schedule a showing .\n",
       "1858985917544601                                                                                                                                                                                                                                                                                                                                                                                                                                                                                                                                                 amazing 4 bed 2 baths , open layout , with a great kitchen , hardwood floors throughout , washer and dryer in unit . duplex units large private deck in rear . area amenities : northeastern , wentworth , simmons , emanuel , longwood medical , mass college of pharmacy , beth israel hospital , jp licks , commercial banks , stop and shop , walgreens , numerous mbta bus routes , mission hill , the orange line , and more ! call lydia @ 617 - 669 - 7334 to schedule a showing .\n",
       "1858985754211284                                                                                                                                                                                                                                                                                                                                                                                                                                                                                                                                                 amazing 4 bed 2 baths , open layout , with a great kitchen , hardwood floors throughout , washer and dryer in unit . duplex units large private deck in rear . area amenities : northeastern , wentworth , simmons , emanuel , longwood medical , mass college of pharmacy , beth israel hospital , jp licks , commercial banks , stop and shop , walgreens , numerous mbta bus routes , mission hill , the orange line , and more ! call lydia @ 617 - 669 - 7334 to schedule a showing .\n",
       "1858985444211315                                                                                                                                                                                                                                                                                                                                                                                                                                                                                                                                                 amazing 4 bed 2 baths , open layout , with a great kitchen , hardwood floors throughout , washer and dryer in unit . duplex units large private deck in rear . area amenities : northeastern , wentworth , simmons , emanuel , longwood medical , mass college of pharmacy , beth israel hospital , jp licks , commercial banks , stop and shop , walgreens , numerous mbta bus routes , mission hill , the orange line , and more ! call lydia @ 617 - 669 - 7334 to schedule a showing .\n",
       "1858964694213390                                                                                                                                                                                                                                                                                                                                                             this 4 bed 2 bath duplex unit is located in the historic mission hill triangle at brigham circle . new kitchen with granite counters , and stainless steel . great period detail , very sunny and bright laundry in unit , beautiful hardwood floors private deck a / c great location near longwood / brigham circle parking available with a fee . area amenities : northeastern , wentworth , simmons , emanuel , longwood medical , mass college of pharmacy , beth israel hospital , jp licks , commercial banks , stop and shop , walgreens , numerous mbta bus routes , mission hill , the orange line , and more ! call lydia 617 - 669 - 7334 to schedule a showing .\n",
       "1858951930881333                                                                                                                                                                                                                                                                                                                                                                                                                                                                          spacious eat in kitchen , loaded with cabinets , fully appliance with stainless steel . grantite counters gleaming hardwood floors . big rooms , great details , high ceilings , recessed lighting . very nice bathroom and huge deck area amenities : northeastern , wentworth , simmons , emanuel , longwood medical , mass college of pharmacy , beth israel hospital , jp licks , commercial banks , stop and shop , walgreens , numerous mbta bus routes , mission hill , the orange line , and more ! call lydia @ 617 - 669 - 7334 to schedule a showing .\n",
       "                                                                                                                                                                                                                                                                                                                                                                                                                                                                                                                                     ...                                                                                                                                                                                                                                                                                                                                                                                                                                                                                                                   \n",
       "1400909910074045                                                                                                                                                                                                                                                                                                                                                                                                                                                                                                                                                                                                                                                                                                                    - perfectly located 5 bed on next to the fens - granite countertops - gleaming hardwood floors - spacious bedrooms - modern bathroom - plenty of closet space - dishwasher - located near universities , shops , restaurants , and more ! - available 9 / 1 / 2019 - 6 , 700 - dm or text for more details 339 203 0826\n",
       "1396873850477651                                                                                                                                                                                                                                                                                                                                                                                                                                                                                                                                                                                                                                                                                                                       一月入住 !/ 2b2b /$ 4580 / 免中介 / 本科生ok ! 主臥 、 副臥 、 客廳皆可議 少見的高級公寓直接接受本科生 24小時門衛 、 屋頂露天游泳池 、 健身房 、 戶外活動區 、 專屬學習室 每層樓專屬洗衣房和垃圾通道 、 中央空調 出門便到prudential center 7分鐘走到new england conservatory 10分鐘走到berklee college of music 5分鐘搭車到northeastern 14分鐘搭車到emerson college 13分鐘搭車到suffolk university 19分鐘搭車到boston university 意者私聊\n",
       "1411649609000075                                                                                                                                                                                                                                                                                                                                                                                                                                                                                                                                                                        located on hillside street mission hill available for 9 / 1 / 2019 move in $ 6000 / month for entire apartment 6 bed 3 bath living room laundry in unit central ac hardwood floors dishwasher , microwave , fridge open kitchen two floors spacious bedrooms with ample closet space stainless steel appliances granite countertops washer / dryer in unit back patio overlooking boston skyline custom cabinets central air new windows insulated marble bathrooms\n",
       "1411646505667052                                                                                                                                                                                                                                                                                                                                                                                                                                                                                                                                                                                                                                              available for 9 / 1 / 2019 move in $ 6400 / month located on sunset street mission hill 6 bed 2 bath with laundry in unit and central ac outdoor patio space kitchen with dishwasher disposal microwave and fridge street parking available close to green and orange lines beautiful stainless steel and granite countertops renovated with kitchen island and sliding door to outdoor space\n",
       "1411632279001808                                                                                                                                                                                                                                                                                                                                                                                                                                                                       available for 9 / 1 / 2019 move in located on delle ave mission hill $ 4750 / month for the apartment 4 bed 2 bath with living room and laundry in unit gas heat and hot water gas fireplace hardwood floors excellent size closets outdoor roof deck space eat - in kitchen with dishwasher disposal gas stove and fridge driveway and street parking available close to green line and orange line fourth bedroom is a massive penthouse slate countertops and modern appliances private roof deck with unobstructed view of boston vaulted ceilings with skylight\n",
       "1411587449006291                                                                                                                                                                                                                                                                                                                                                                                                                                                                                                                                                     available 9 / 1 / 2019 $ 5400 / month for the apartment located on parker hill avenue in mission hill 4 bed 1 bath laundry in unit central ac gas heat and hot water non - working fireplace five total rooms hardwood floors good size closets dishwasher , disposal , microwave , electric stove , fridge open kitchen setup granite counter tops stainless steel appliances central ac deck laundry in unit parking available for extra contact me for more information or showings\n",
       "1411598192338550                                                                                                                                                                                                                                                                                                                                                                                                                                                                                                                                                                                                                                        located on tremont street close to orange line and green line - symphony and ruggles t stops - amazing location ! available for 9 / 1 / 2019 $ 5300 / month 4 bed 2 bath with living room laundry in unit and central ac hardwood floors kitchen with dishwasher disposal microwave and gas stove fridge eat - in kitchen large bedrooms close to orange line and green line - symphony and ruggles\n",
       "1411434492354920                                                                                                                                                                                                                                                                                                                                                                                                                                 if you like to cook this is the place for you . huge kitchen with wrap around counters and cabinets with an open layout as well . fully appliance , massive rooms , on multiple levels , washer and dryer in unit . gleaming hardwood floors , lots of windows , great space . area amenities : northeastern , wentworth , simmons , emanuel , longwood medical , mass college of pharmacy , beth israel hospital , jp licks , commercial banks , stop and shop , walgreens , numerous mbta bus routes , mission hill , the orange line , and more ! call lydia @ 617 - 669 - 7334 to schedule a showing .\n",
       "1411434269021609                                                                                                                                                                                                                                                                                                                                                                                                                                 if you like to cook this is the place for you . huge kitchen with wrap around counters and cabinets with an open layout as well . fully appliance , massive rooms , on multiple levels , washer and dryer in unit . gleaming hardwood floors , lots of windows , great space . area amenities : northeastern , wentworth , simmons , emanuel , longwood medical , mass college of pharmacy , beth israel hospital , jp licks , commercial banks , stop and shop , walgreens , numerous mbta bus routes , mission hill , the orange line , and more ! call lydia @ 617 - 669 - 7334 to schedule a showing .\n",
       "1411428185688884                                                                                                                                                                                                                                                                                                                                                                                                                                                                                                                                                                                                          best location on mission hill - saint alphonsus st . amazing 4 bed 2 bath , being completely renovated laundry in unit central a / c deck fully appliance , with top of the line stainless steel appliances . great natural sunlight gorgeous hardwood floors huge private deck for entertaining open layout with island designer bathrooms students this gem will not last . call lydia @ 617 - 669 - 7334 to schedule a showing\n",
       "1411284022369967                                                                                                                                                                                                                                                                                                                                                                                                                                                                                                                                                                                                                                                                                                                                                                                     2 bed on atlantic ave . 2 modern bathrooms central air vanity tops in bathrooms washer and dryer high ceilings garage parking fitness center * heat included * laundry in unit * central air * dishwasher * garage parking * pets ok * hardwood floors\n",
       "1411274365704266                                                                                                                                                                                                                                                                                                                                                    this fabulous 6 bed with 2 full baths , with a full living and dining room . gleaming hardwood floors , high beamed ceilings , great sunlight great layout , unit has all the bells and whistles , central a / c , big bedrooms , included in rental is a 70 inch mounted 4k smart tv . completely gutted and rehabbed . designer kitchen fully appliance . area amenities : northeastern , wentworth , simmons , emanuel , longwood medical , mass college of pharmacy , beth israel hospital , jp licks , commercial banks , stop and shop , walgreens , numerous mbta bus routes , mission hill , the orange line , and more ! call lydia @ 617 - 669 - 7334 to schedule a showing .\n",
       "1411274152370954                                                                                                                                                                                                                                                                                                                                                    this fabulous 6 bed with 2 full baths , with a full living and dining room . gleaming hardwood floors , high beamed ceilings , great sunlight great layout , unit has all the bells and whistles , central a / c , big bedrooms , included in rental is a 70 inch mounted 4k smart tv . completely gutted and rehabbed . designer kitchen fully appliance . area amenities : northeastern , wentworth , simmons , emanuel , longwood medical , mass college of pharmacy , beth israel hospital , jp licks , commercial banks , stop and shop , walgreens , numerous mbta bus routes , mission hill , the orange line , and more ! call lydia @ 617 - 669 - 7334 to schedule a showing .\n",
       "1410907655740937    hey , are you looking for three bedroom near neu and berklee ? here is a good place for you ! this unit is renovated and clean and has laundry in unit ! no broker fee ! [ location info ( walking distance )] 6 min from northeastern university 6 min berklee college of music 5 min from symphony station ( green line / e ) 9 min from massachusetts ave station ( orange line ) 7 minutes from whole foods market , star market , prudential [ details ] new / renovated kitchen and bath disposal granite counter tops laundry in unit hot water is included . [ contact info ] phone number : 8572727450 email address : [ hidden information ] feel free to contact me if you ’ re interested in ! [ hidden information ], this is my email address and you can contact me anytime !!! 안녕하세요 , 노스이스턴 대학교와 버클리 주변 3 베드룸 나왔습니다 ! 레노베잇돼서 굉장히 깨끗한 유닛이 4300불 ( 한 분 당 약 1430불 ) 에 나왔습니다 ! 세탁기 , 건조기가 유닛 안에 있어서 빨래방을 가거나 하시는 일 없습니다 . 브로커 피 안 내셔도 됩니다 . [ 위치 정보 ( 도보 기준 )] 노스이스턴 대학까지 6분 버클리까지 6분 심포니 역 ( 그린 라인 / e ) 까지 5분 매사추세츠 애...\n",
       "1410906302407739    hey , are you looking for three bedroom near neu and berklee ? here is a good place for you ! this unit is renovated and clean and has laundry in unit ! no broker fee ! [ location info ( walking distance )] 6 min from northeastern university 6 min berklee college of music 5 min from symphony station ( green line / e ) 9 min from massachusetts ave station ( orange line ) 7 minutes from whole foods market , star market , prudential [ details ] new / renovated kitchen and bath disposal granite counter tops laundry in unit hot water is included . [ contact info ] phone number : 8572727450 email address : [ hidden information ] feel free to contact me if you ’ re interested in ! [ hidden information ], this is my email address and you can contact me anytime !!! 안녕하세요 , 노스이스턴 대학교와 버클리 주변 3 베드룸 나왔습니다 ! 레노베잇돼서 굉장히 깨끗한 유닛이 4500불 ( 한 분 당 1500불 ) 에 나왔습니다 ! 세탁기 , 건조기가 유닛 안에 있어서 빨래방을 가거나 하시는 일 없습니다 . 브로커 피 안 내셔도 됩니다 . [ 위치 정보 ( 도보 기준 )] 노스이스턴 대학까지 6분 버클리까지 6분 심포니 역 ( 그린 라인 / e ) 까지 5분 매사추세츠 애비뉴...\n",
       "1410871365744566                                                                                                                                                                                                                                                                                          available 9 / 1 / 2019 $ 5700 / month no broker fee located on hillside street in mission hill find yourself a group of 5 - 7 people , and you can rent this apartment as a whole for september 1st of next year . one of the best apartments in mission hill in terms of quality , location , and price . 5 bed 2 . 5 bath living room dining room free laundry in unit gas heat and hot water hardwood and tile floors excellent closets extra storage rear porch dishwasher , disposal , gas stove , fridge open kitchen driveway parking for two cars hd tv installed renovated kitchen with granite countertops and stainless steel appliances finished attic close to all public transportation contact me for more information or showings\n",
       "1396233693875000    hey , are you looking for three bedroom near neu and berklee ? here is a good place for you ! this unit is renovated and clean and has laundry in unit ! [ location info ( walking distance )] 6 min from northeastern university 6 min berklee college of music 5 min from symphony station ( green line / e ) 9 min from massachusetts ave station ( orange line ) 7 minutes from whole foods market , star market , prudential [ details ] new / renovated kitchen and bath disposal granite counter tops laundry in unit hot water is included . [ contact info ] phone number : 8572727450 email address : [ hidden information ] feel free to contact me if you ’ re interested in ! [ hidden information ], this is my email address and you can contact me anytime !!! 안녕하세요 , 노스이스턴 대학교와 버클리 주변 3 베드룸 나왔습니다 ! 레노베잇돼서 굉장히 깨끗한 유닛이 4500불 ( 한 분 당 1500불 ) 에 나왔습니다 ! 세탁기 , 건조기가 유닛 안에 있어서 빨래방을 가거나 하시는 일 없습니다 . [ 위치 정보 ( 도보 기준 )] 노스이스턴 대학까지 6분 버클리까지 6분 심포니 역 ( 그린 라인 / e ) 까지 5분 매사추세츠 애비뉴 역 ( 오렌지 라인 ) 까지 9분 홀푸드 마켓 , 스타 마켓...\n",
       "1393345927497110                                                                                                                                                                                                                                                                                                                                                                                                                                                                                                                                                                             ******** attention bu ******** if you ' re looking for a higher end option in a prime location for students in allston ( this one is packard ' s corner ) start looking early so you can truly find the best apartment possible and make the most of your college experience ! this is one of many listings i have . contact me today and i can help you in your 2019 / 2020 apartment search ! https :// www . zillow . com / homedetails / 2086704413_zpid /\n",
       "1392755697556133                                                                                                                                                                                                                                                                                                                                                                                                                                                                                                                                                                                                                                                                                                                                   huge living room in unit laundry central ac hardwood flooring dishwasher disposal microwave the must see ! northeastern , longwood medical , crispy dough neu , longwood medical , wentworth , orange line i do have more 3 , 4 , and 5 + beds available . trevor turner 6177559908 boardwalk properties\n",
       "1392717477559955                                                                                                                                                                                                                                                                                                                                                                                                                                                                                                                                                                                                                                awesome 7 bed available near northeastern ! features in wall ac , laundry in unit , a large living room , street parking , and a huge dining room and kitchen . the apartment has 4 porches . must see ! located near northeastern , the orange and green mbta lines , longwood medical , crispy dough , and milkweed ! i do have more 3 , 4 , and 5 + beds available . call trevor to schedule a showing !\n",
       "1391588684339501                                                                                                                                                                                                                                                                                                                                                                                                                                                                                                                                                                                                                                                                                                                                                                                                          - economical high quality housing - hardwood floor , central air control - brand new inside out - available now and lease ends 8 / 31 / 2019 - cats are $ 25 per month ; dogs are $ 75 / month , case by case - pm me for showing\n",
       "1390646004433769                                                                                                                                                                                                                                                                                                                                                                                                                                                                                                                                                                                                                                                                                          awesome 4 bed 2 bath available near northeastern ! features laundry in building , as well as a large living room with tall ceilings and plenty of natural lighting . the kitchen has an open layout , complete with a dishwasher , disposal , and gas range . i do have more 3 , 4 , and 5 + beds available . call trevor to schedule a showing !\n",
       "1390635427768160                                                                                                                                                                                                                                                                                                                                                                                                                                                                                                                                                                   fantastic 4 bed 2 bath available near northeastern ! features central ac , as well as in unit laundry and a large living room . the apartment has an open kitchen complete with a dishwasher , disposal , and microwave . the unit has hardwood flooring , as well as excellent closet space ! located near northeastern , longwood medical , mcphs , brighams , and stop and shop ! i do have more 3 , 4 , and 5 + beds available . call trevor to schedule a showing !\n",
       "1412257918939244                                                                                                                                                                                                                                                                                                                                                                                                                                                                                                                                                                                                                                                                                                                                                                                                                                                                                                                                                                2001 chevy wrecker in very good condition has 110k runs and looks very good\n",
       "1412115838953452                                                                                                                                                                                                                                                                                                                                                                                                                                                                                                                                                                                                                                                                                                                                                                                                                                                                                                   automatic runs very good clean title power windows we finance bad credit no credit has 142 , 000 miles 479 broadway st lawrence ma 01841\n",
       "1412052442293125                                                                                                                                                                                                                                                                                                                                                                                                                                                                                                                                                                                                                                                                                  six ( 6 ) beds with four ( 4 ) bath apartment - fort hill , boston , ma . $ 5 , 875 / month rent available for september 1st move in spacious closets with hardwood floors laundry in unit open kitchen concept with a gas stove , microwave , large fridge , and garbage disposal driveway available for parking up to 4 spots pets are ok no broker fee\n",
       "1412046892293680                                                                                                                                                                                                                                                                                                                                                                                                                                                                                                                                                                                                                                                                                                                                                                                  2008 jeep 🚙 commander 🎁 4x4 very spacious inside equipped for the worst territory trusted by the united states arm forces / has 162k miles like new / very nice truck very powerfull motor clean tittle no accidents asking for $ 4500 cash or best offer\n",
       "1412032262295143                                                                                                                                                                                                                                                                                                                                                                                                                                                                                                                                                                                                                                                                                                                                                                                                                                                                                                   automatic runs very good clean title power windows we finance bad credit no credit has 142 , 000 miles 479 broadway st lawrence ma 01841\n",
       "1412030008962035                                                                                                                                                                                                                                                                                                                                                                                                                                                                                                                                                                                                                                                                                                                                                                                                                                                                                                   automatic runs very good clean title power windows we finance bad credit no credit has 167 , 000 miles 479 broadway st lawrence ma 01841\n",
       "1411987648966271                                                                                                                                                                                                                                                                                                                                                                                                                                                                                                                                                                                                                                                                                                                                                                                                                                                                                                                                                                   runs and looks very good has 167 , 000 miles 479 broadway st lawrence ma\n",
       "Name: text, Length: 168, dtype: object"
      ]
     },
     "execution_count": 33,
     "metadata": {},
     "output_type": "execute_result"
    }
   ],
   "source": [
    "df[(df.price > 4000)&(df.price < 8000)].text "
   ]
  },
  {
   "cell_type": "code",
   "execution_count": 34,
   "metadata": {},
   "outputs": [
    {
     "data": {
      "text/html": [
       "<div>\n",
       "<style scoped>\n",
       "    .dataframe tbody tr th:only-of-type {\n",
       "        vertical-align: middle;\n",
       "    }\n",
       "\n",
       "    .dataframe tbody tr th {\n",
       "        vertical-align: top;\n",
       "    }\n",
       "\n",
       "    .dataframe thead th {\n",
       "        text-align: right;\n",
       "    }\n",
       "</style>\n",
       "<table border=\"1\" class=\"dataframe\">\n",
       "  <thead>\n",
       "    <tr style=\"text-align: right;\">\n",
       "      <th></th>\n",
       "      <th>text</th>\n",
       "      <th>price</th>\n",
       "    </tr>\n",
       "    <tr>\n",
       "      <th>_id</th>\n",
       "      <th></th>\n",
       "      <th></th>\n",
       "    </tr>\n",
       "  </thead>\n",
       "  <tbody>\n",
       "    <tr>\n",
       "      <th>1479867442147193</th>\n",
       "      <td>hi all ! iso studio / 1 br apt / or private room to rent through june . preference to n . of boston / merrimack valley . parking needed . no pets / smoking / etc . under $ 1k / month but may be flexible for the right fit . serious inquiries only . thank you !</td>\n",
       "      <td>1.0</td>\n",
       "    </tr>\n",
       "    <tr>\n",
       "      <th>1481460888654515</th>\n",
       "      <td>seeking female to fill a room in a beautiful 3 bedroom apartment in the heart of jamaica plain , starting february 1st . either in grad school or a working professional . clean quiet , easygoing , nice , no smoking in the apartment . you would be living with two other women . i ' m leaving because of work . on one end of the block is jamaica pond , at the other is centre street / downtown jamaica plain , which has tons of cute and convenient shops . 10 minute walk from the orange line , 2 minute walk from the 39 bus line that goes straight into the heart of boston . washer and dryer in the unit . storage space in the basement . massive backyard . shared parking spot and ample street parking , especially in the evening . broker requests a fee of $ 350 for background checks and credit checks , as well as for creating the lease . also , $ 1000 security deposit . we look forward to meeting you ! message me for details .</td>\n",
       "      <td>350.0</td>\n",
       "    </tr>\n",
       "    <tr>\n",
       "      <th>1478940472239890</th>\n",
       "      <td>room available for sublet in jamaica plain january 8 - 14 ! full size bed , small room but large common space . 5 minute walk from the orange line . roommates are musicians . $ 200 for the week , or we can negotiate for partial stay . dm me if you ’ re interested !</td>\n",
       "      <td>200.0</td>\n",
       "    </tr>\n",
       "    <tr>\n",
       "      <th>1478469722286965</th>\n",
       "      <td>anyone looking for parking ? got a deeded parking space available in oak square for about $ 100 a month ( or $ 1 , 100 a year if paid up front ). close to i - 90 and roads leading to the metrowest . pm for details .</td>\n",
       "      <td>100.0</td>\n",
       "    </tr>\n",
       "    <tr>\n",
       "      <th>1488421641291773</th>\n",
       "      <td>located in roxbury . selling bed frame , mattress , and dresser for only $ 250 . in great conditions , looks brand new ! please dm for serious inquiries</td>\n",
       "      <td>250.0</td>\n",
       "    </tr>\n",
       "    <tr>\n",
       "      <th>1489727054494565</th>\n",
       "      <td>the spacious room for feb 1 . it ’ s large sunny room . 1 min to bus 15 / 18 , convenient to northeastern university area . 4 min to bus 215 , easy to quincy college . 4 min to red line t station , convenient to u mass , south station , downtown of boston , mgh / mit .... no smoking , no drugs , no drunk , no pet or loud music . add $ 100 for couple . looking for clean , quiet and responsible roommates massage me if u interest !!!</td>\n",
       "      <td>100.0</td>\n",
       "    </tr>\n",
       "    <tr>\n",
       "      <th>1489208854546385</th>\n",
       "      <td>looking for someone to take over my lease from february or march 2019 , with possibility to renew in september ( to be negotiated directly with the landlord ). very spacious 1 bedroom , with high ceilings , laundry in unit , electric stove , garbage disposal , and dishwasher . the apartment is an in - law suit separate from the landlord ' s main single home with off street parking . there are no upstairs or downstairs neighbors . no pets . no smoking . the area is very quiet , surrounded by green . it can be a great place for a couple . five minutes walk from the arlington reservoir and whipple hill . i love this apartment , but i need to move into the city to be closer to my job . landlord requires deposit , first and last month , a photo copy of drivers license , and 3 months worth of pay stub . application is $ 39 . 99 for background and credit check .</td>\n",
       "      <td>39.0</td>\n",
       "    </tr>\n",
       "    <tr>\n",
       "      <th>1489882064479064</th>\n",
       "      <td>posting again 1br in a 2br apartment available for feb 1st 20 minute walk to davis ( red line ) 5 minute bus ride to davis which is right down the street easy commute to 95 $ 1200 a month but somewhat negotiable roommate is a female in her 20s who works in boston storage and laundry in the basement , everything in the kitchen is updated , balcony , parking spot is possible it ’ s a great apartment , can be furnished or unfurnished</td>\n",
       "      <td>95.0</td>\n",
       "    </tr>\n",
       "    <tr>\n",
       "      <th>1489214327879171</th>\n",
       "      <td>no fee , cleaning service and all utilities included , close to the t hi all , i ' m looking to fill my room in a newly refurbished ( 2018 ) 4 bed , 2 bath on auckland street ( between savin hill ave and bay street ) in savin hill . i ' m moving in with my partner , so no fee ! you only have to submit a rental application . features : - less than 5 minute walk to savin hill t stop - all utilities included in rent and managed by landlord ( electric , gas , heat , hot water , internet ) - monthly cleaning service included in rent for all common areas ( kitchen , living room , both bathrooms ) - dish washer , in - building washer / dryer , all stainless steel appliances - furnished living room including common area television - back porch , off - street parking available for $ 100 / month - grocery store , drug store , gym , and restaurants all less than 5 minute walk - landlord is responsive and thoughtful roommates : - 20s / 30s professionals and all great guys working in finance an...</td>\n",
       "      <td>100.0</td>\n",
       "    </tr>\n",
       "    <tr>\n",
       "      <th>1489297874537483</th>\n",
       "      <td>for your new apartment affordable bed available : twin bed - $ 40 chestnut hill , ma twin bed for sale for $ 40 including frame , slats , and mattress . very comfortable and sturdy , in good condition . buyer has to arrange for transportation . please pm for details .</td>\n",
       "      <td>40.0</td>\n",
       "    </tr>\n",
       "    <tr>\n",
       "      <th>1489172767883327</th>\n",
       "      <td>hi everyone ! i have a strange request for the boston community - does anyone have a driveway they would be able to rent to me so i can live in my tiny camper on it ? the camper is 13 ft x 10 ft . i would need one normal plug for electricity and some form of running water every once in a while to fill the tank . i would also need access to a shower . i have my own kitchen , sink , and small toilet . preferred location is quincy but anywhere within fifteen - twenty minute drive will also work . i have a dog so if there is a yard , that would be great but we can do without . i ' m working full time and have very long work days so i won ' t be around very often except to sleep or on my days off . looking to spend around $ 200 - 300 / month so this is a great opportunity for someone looking to make a bit of extra money without having to do very much ! i would also be willing to trade service ( yard work , house work , etc .) if that is more important than some extra money . if you know...</td>\n",
       "      <td>200.0</td>\n",
       "    </tr>\n",
       "    <tr>\n",
       "      <th>1488683457932258</th>\n",
       "      <td>hi , i ' m moving out of state in a few weeks and i need to sell all of my furniture . all the ikea furniture i ' ve used for just a few months . the grey dresser and night stand are a few years old . here is the list and prices : shoe rack ( ikea ) $ 10 tv stand ( ikea ) $ 50 2 chairs ( ikea ) free bookcase ( ikea ) $ 15 dresser ( non - ikea ) $ 300 night stand ( non - ikea ) $ 50</td>\n",
       "      <td>50.0</td>\n",
       "    </tr>\n",
       "    <tr>\n",
       "      <th>1488421564625114</th>\n",
       "      <td>located in roxbury . selling bed frame , mattress , and dresser for only $ 250 . in great conditions , looks brand new ! please dm for serious inquiries</td>\n",
       "      <td>250.0</td>\n",
       "    </tr>\n",
       "    <tr>\n",
       "      <th>1487013188099285</th>\n",
       "      <td>we can provide you with exceptional cleaning services for an affordable price that fits your budget . * hourly pricing : -$ 80 for 2 hours -$ 110 for for 4 hours * pricing per room : -$ 25 for 1 room -$ 40 for 2 rooms -$ 45 for 3 rooms -$ 45 for flooring only -$ 55 for kitchen and bathrooms call or message to schedule services : ( 857 ) 312 - 6993 or ( 857 ) 762 - 9467</td>\n",
       "      <td>80.0</td>\n",
       "    </tr>\n",
       "    <tr>\n",
       "      <th>1486954408105163</th>\n",
       "      <td>we can provide you with exceptional cleaning services for an affordable price that fits your budget . * hourly pricing : -$ 80 for 2 hours -$ 110 for for 4 hours * pricing per room : -$ 25 for 1 room -$ 40 for 2 rooms -$ 45 for 3 rooms -$ 45 for flooring only -$ 55 for kitchen and bathrooms call or message to schedule services : ( 857 ) 312 - 6993 or ( 857 ) 762 - 9467</td>\n",
       "      <td>80.0</td>\n",
       "    </tr>\n",
       "    <tr>\n",
       "      <th>1485520431581894</th>\n",
       "      <td>newton 近绿线d 地铁站房间出租从2 ⃣️🈷️ 份开始 ， 全美最安全的区之一 ， 步行2 ⃣️ 分钟到地铁站 ， 5 ⃣️ 分钟内各种风味美食 ， 邮局银行 ， 24小时7 / 11 ， 2 ⃣️ 人共用一卫浴间 ， 安静卫生 ， 家具齐全高速上网洗衣服免费 ， 杂费全包拎包入住 ， 去bc 、 lasell , hebrew , 音樂學院大学非常近 ， 绿线d地铁方便出行 ， 有須要的請短信或電話917 - 375 - 9577陳先生謝謝大家 🤗</td>\n",
       "      <td>9.0</td>\n",
       "    </tr>\n",
       "    <tr>\n",
       "      <th>1484751311658806</th>\n",
       "      <td>hi everyone my current lease ends on jan 5th . been here a year and half . sick of living in the community type setting . currently at 14 north in peabody ma it ’ s really nice here just not for me anymore since they hiked the prices way up over 2k . looking for a one bedroom and with a yard would be ideal . not looking to rent a room or share . northshore area . 6 - 12 months until i buy a house . great references , no evictions etc . quiet , clean , in my late 20s , no arrest records etc . what ’ s out there for around 2k and under ? looking to move in this month sooner the better . open to all options but prefers a nice apartment , in - law apartment etc . but post any leads you have . will pay whoever finds me the spot i choose $ 100 finders fee .</td>\n",
       "      <td>100.0</td>\n",
       "    </tr>\n",
       "    <tr>\n",
       "      <th>1484771061656831</th>\n",
       "      <td>hi this isn ’ t regarding apartments but selling 2 snoop dog tix for tomorrow 1 / 4 at the grand $ 35 each !</td>\n",
       "      <td>35.0</td>\n",
       "    </tr>\n",
       "    <tr>\n",
       "      <th>1490726114394659</th>\n",
       "      <td>hi ! we have a spot opening up in a 2400 sq ft 4 bedroom 2 bath apartment in brookline for february 1st . it ' s close to the # 60 bus that takes you to longwood and a 7 min walk to brookline hills t stop . the room is on the smaller size so the rent is lowered , but can fit a queen size bed with some wiggle room or a full . it ' s definitely workable ! tons of storage space in the apartment with an all weather porch . current roommates are 3 female working professions in their mid 20s . we are open any ethnic background or gender identity . we are looking for someone respectful , clean and able to pay their bills on time . laundry in unit and heat and hot water included . rent is 775 without utilities included ( electricity and cable / internet ~ 70 a month ) brookline has a weird strict banned overnight parking policy so renting an extra spot would be $ 200 a month looking for someone to stay until the end of august with the possibility of renewing ! please dm if interested !!</td>\n",
       "      <td>200.0</td>\n",
       "    </tr>\n",
       "    <tr>\n",
       "      <th>1489891337811470</th>\n",
       "      <td>hi , i ' m looking for a br for a couple and a small / silent cat from 2 / 1 until 5 / 5 ( 3 months ).. flexible location , but close to subway . max $ 1 . 000 / month .</td>\n",
       "      <td>1.0</td>\n",
       "    </tr>\n",
       "    <tr>\n",
       "      <th>1832433706866489</th>\n",
       "      <td>we will cleaning you house . 1000 sq . ft . for $ 75 dollars . 2000 sq . ft . for $ 90 dollars , up until 4000 sq . ft . for $ 130 dollars . promotion for new clients . thanks very much . inbox please .</td>\n",
       "      <td>1.0</td>\n",
       "    </tr>\n",
       "    <tr>\n",
       "      <th>1830964547013405</th>\n",
       "      <td>price negotiable ; needs to be picked up from westland avenue apartment ( next to northeastern university ) asap ; other free items also available</td>\n",
       "      <td>150.0</td>\n",
       "    </tr>\n",
       "    <tr>\n",
       "      <th>1830602430382950</th>\n",
       "      <td>beautiful giant mirror in gold portrait frame . 8 ft x 5 ft .</td>\n",
       "      <td>200.0</td>\n",
       "    </tr>\n",
       "    <tr>\n",
       "      <th>1829603720482821</th>\n",
       "      <td>i ´ m 22 years old , student of biotechnology engineering . i ´ m looking for a room from january to july . because i ´ ll be doing a research internship at harvard medical school . me and my friend are looking for a room that we can share .</td>\n",
       "      <td>1.0</td>\n",
       "    </tr>\n",
       "    <tr>\n",
       "      <th>1824496587660201</th>\n",
       "      <td>hi , brand new and never worn pink colored \" its our time \" top . just $ 25 including international shipping . please message me on fb for further details . thanks .</td>\n",
       "      <td>25.0</td>\n",
       "    </tr>\n",
       "    <tr>\n",
       "      <th>1844203992356127</th>\n",
       "      <td>all star cash for car is now accepting scrap vehicles call or text 401 - 771 - 7383 see what ur scrap vehicle is worth today $$$$$</td>\n",
       "      <td>250.0</td>\n",
       "    </tr>\n",
       "    <tr>\n",
       "      <th>1843169915792868</th>\n",
       "      <td>hey guys ! i ' m a junior at a university in indiana . i would be interning at a company in boston this summer . therefore i am looking for a room between $ 350 - 450 / month . open to share the room / or make adjustments accordingly my internship dates are : 28th may - 16th august</td>\n",
       "      <td>350.0</td>\n",
       "    </tr>\n",
       "    <tr>\n",
       "      <th>1842116782564848</th>\n",
       "      <td>three shelf , stainless steel , glass cased , pizza warmer</td>\n",
       "      <td>100.0</td>\n",
       "    </tr>\n",
       "    <tr>\n",
       "      <th>1840618836047976</th>\n",
       "      <td>looking , on behalf of friend , for a 1 bedroom apartment to rent during january . has to be on the first floor and preferably in cambridge . please let me know if you know anyone sub - letting .</td>\n",
       "      <td>1.0</td>\n",
       "    </tr>\n",
       "    <tr>\n",
       "      <th>1840881986021661</th>\n",
       "      <td>pick up please cash 30 gallon , 2 . 0 hp motor , 135 max</td>\n",
       "      <td>235.0</td>\n",
       "    </tr>\n",
       "    <tr>\n",
       "      <th>...</th>\n",
       "      <td>...</td>\n",
       "      <td>...</td>\n",
       "    </tr>\n",
       "    <tr>\n",
       "      <th>1411280209037015</th>\n",
       "      <td>listen , read , jkr has the best offer for you 1 ) we give you estimate absolutely free 2 ) if you send us a text and make your appointment you receive 25 % off in all your cleanings 3 ) if you recommend your family , friend or any other person if you make your cleaning appointment you receive an extra 15 % off in your next cleaning , search us on facebook , send us a text or an email and your appointment is now fully guaranteed , we are professionals at your service do not wait any longer .... .... jkr cleaning services .. your best option .. http :// ecoingsv . wixsite . com / jkrcleaningservices https :// www . facebook . com / jkrcleaningservice /</td>\n",
       "      <td>1.0</td>\n",
       "    </tr>\n",
       "    <tr>\n",
       "      <th>1410843112414058</th>\n",
       "      <td>brand new - rattan chairs with ottoman and tray</td>\n",
       "      <td>120.0</td>\n",
       "    </tr>\n",
       "    <tr>\n",
       "      <th>1393346124163757</th>\n",
       "      <td></td>\n",
       "      <td>1.0</td>\n",
       "    </tr>\n",
       "    <tr>\n",
       "      <th>1393346117497091</th>\n",
       "      <td>all frames sizes 4 × 6 , 5 × 7 , 8x 10 in great cond . some brand new . small frames $ 4 , med $ 5 , large $ 6 . better prices if you buy more . lamp with desk organizer $ 6</td>\n",
       "      <td>123.0</td>\n",
       "    </tr>\n",
       "    <tr>\n",
       "      <th>1393345987497104</th>\n",
       "      <td>youth hockey equipment</td>\n",
       "      <td>120.0</td>\n",
       "    </tr>\n",
       "    <tr>\n",
       "      <th>1393345947497108</th>\n",
       "      <td></td>\n",
       "      <td>150.0</td>\n",
       "    </tr>\n",
       "    <tr>\n",
       "      <th>1393345907497112</th>\n",
       "      <td>home depot gift card ... it has $ 100 . 00 on the gift card ... selling for $ 85 . 00</td>\n",
       "      <td>85.0</td>\n",
       "    </tr>\n",
       "    <tr>\n",
       "      <th>1393297634168606</th>\n",
       "      <td>twin set 109 full set 150 queen set 175 momo discount furniture 1012 gorham street lowell ma 9783234440</td>\n",
       "      <td>109.0</td>\n",
       "    </tr>\n",
       "    <tr>\n",
       "      <th>1392565357575167</th>\n",
       "      <td>have you thought about fixing those stairs , no safe for winter ? or even make that walkway to get to your garage ? come and consult us , we have a free estimate to give you . we also reformed their kitchen or bathroom , we changed their tile and made painting of the bedroom , living room . masonry services best price - free estimate - special conditions for december walk way , patio , ston wall , concrete , stairs , block wall , chimney , wood steps , fence , brick wall + 1 ( 508 ) 991 - 0305 - edson</td>\n",
       "      <td>2.0</td>\n",
       "    </tr>\n",
       "    <tr>\n",
       "      <th>1392491737582529</th>\n",
       "      <td>twin set 109 full set 150 queen set 175 momo discount furniture 1012 gorham street lowell ma 9783234440</td>\n",
       "      <td>109.0</td>\n",
       "    </tr>\n",
       "    <tr>\n",
       "      <th>1392292994269070</th>\n",
       "      <td>hi , brand new and never worn pink colored \" its our time \" top . just $ 25 including international shipping . please message me on fb for further details . thanks .</td>\n",
       "      <td>25.0</td>\n",
       "    </tr>\n",
       "    <tr>\n",
       "      <th>1392061514292218</th>\n",
       "      <td>house cleaning for $ 120 4 hours of deep cleaning 1 person for $ 120 schedule a day by text message or email phone : ( 857 ) 243 - 5831 email : [ hidden information ] i know it ' s unbelievable , but we guarantee your satisfaction . schedule your cleaning . only for first time customers . limit 1 per person . all services must be redeemed for the same family . the value is for a cleaning . for household cleaning services only .</td>\n",
       "      <td>120.0</td>\n",
       "    </tr>\n",
       "    <tr>\n",
       "      <th>1392049017626801</th>\n",
       "      <td>hacemos mudanzas en todo massachusett pequeñas y grandes mudanzas también movemos muebles camas etc de las tiendas we make moves in all massachusett and move small and large furniture stores contáctenos inbox o puede llamar al 617 669 0144</td>\n",
       "      <td>1.0</td>\n",
       "    </tr>\n",
       "    <tr>\n",
       "      <th>1391949757636727</th>\n",
       "      <td>gran oferta directv paquete óptimo más te ofrece desde 35 $ para un solo tv 255 canales en hd en ambos idiomas ( español e inglés ). sin depósito . 3 meses gratis de peliculas y series premiun instalación totalmente gratuita gift card de regalo visa de 100 $ caja grabadora . además en conjunto te ofrecemos internet con at &amp; t por tan solo 40 $ al mes . no te pierdas de esta gran oferta , contáctame ya !. great offer directv select package it offers you from $ 35 for a single tv 155 channels in hd in both languages ( spanish and english ). no deposit . 3 free months of premiun films and series installation totally free gift card $ 100 visa gift recorder box . also together we offer internet with at &amp; t for only $ 40 per month . do not miss out on this great offer , contact me now !</td>\n",
       "      <td>75.0</td>\n",
       "    </tr>\n",
       "    <tr>\n",
       "      <th>1391902107641492</th>\n",
       "      <td>accommodation available in hall for 1 female in a spacious hall with closet . utilities ( internet , gas , electricity ) will cost another 40 $ approximately . apartment 1 min walk distance to washington street ( green line ) t stop . move - n flexible dec / jan . dm for pictures and more details .</td>\n",
       "      <td>375.0</td>\n",
       "    </tr>\n",
       "    <tr>\n",
       "      <th>1391530561011980</th>\n",
       "      <td>good condition ... keurig k70 keurig k70 platinum -------- works great ,</td>\n",
       "      <td>49.0</td>\n",
       "    </tr>\n",
       "    <tr>\n",
       "      <th>1391529874345382</th>\n",
       "      <td>good condition microwave works great</td>\n",
       "      <td>45.0</td>\n",
       "    </tr>\n",
       "    <tr>\n",
       "      <th>1391352561029780</th>\n",
       "      <td></td>\n",
       "      <td>60.0</td>\n",
       "    </tr>\n",
       "    <tr>\n",
       "      <th>1391347004363669</th>\n",
       "      <td>twin set 109 full set 150 queen set 175 momo discount furniture 1012 gorham street lowell ma 9783234440</td>\n",
       "      <td>109.0</td>\n",
       "    </tr>\n",
       "    <tr>\n",
       "      <th>1391173234381046</th>\n",
       "      <td>geladeira funciona tudo</td>\n",
       "      <td>130.0</td>\n",
       "    </tr>\n",
       "    <tr>\n",
       "      <th>1390981484400221</th>\n",
       "      <td>used in good condition</td>\n",
       "      <td>15.0</td>\n",
       "    </tr>\n",
       "    <tr>\n",
       "      <th>1390804551084581</th>\n",
       "      <td>312 main street medford aberto de segunda a sábado das 9 da manhã às 8 da noite e domingos das 9 da manhã às 3 da tarde léo e toninho</td>\n",
       "      <td>25.0</td>\n",
       "    </tr>\n",
       "    <tr>\n",
       "      <th>1390757107755992</th>\n",
       "      <td>temporary accommodation available for 1 boy from 20th december 2018 to 3rd january 2019 - location : 1114 commonwealth avenue , allston - it is a 2 bed apartment with a spacious living area and a balcony . - the apartment is very close to bank of america , tj max , star market , target . - 5 to 10 minutes walk to boston university - takes roughly 25 minutes to reach northeastern university by green t line . - within the radius of the red eye shuttle - laundry in the basement of adjacent apartment ’ s basement . - bed and mattress available . - rent : $ 16 ( inclusive of heat and hot water ) + additional ( gas , electricity and wifi ) pm for more details</td>\n",
       "      <td>16.0</td>\n",
       "    </tr>\n",
       "    <tr>\n",
       "      <th>1390538304444539</th>\n",
       "      <td>twin set 109 full set 150 queen set 175 momo discount furniture 1012 gorham street lowell ma 9783234440</td>\n",
       "      <td>109.0</td>\n",
       "    </tr>\n",
       "    <tr>\n",
       "      <th>1411959938969042</th>\n",
       "      <td>get matches with roommates for next year ! the best properties in boston are already on the market , and if you ' re looking to get a great location , high quality amenities , and decent price , you ' re probably already looking for roommates . contact me directly , and i can match you with roommates for the location , budget , and move in date that you would like . we have studios , 1 beds , all the way up to 12 - bedroom apartments . the average price per bedroom is about $ 900 / month we have everything in the greater boston area - allston , brighton , brookline , cambridge , medford , somerville , south boston , dorchester , jamaica plain , south end , mission hill , symphony .</td>\n",
       "      <td>1.0</td>\n",
       "    </tr>\n",
       "    <tr>\n",
       "      <th>1412137608951275</th>\n",
       "      <td>$ 45 ikea bedframe with a mattress included . $ 20 ikea desk + desk chair ( can be sold separately ). pm me to come pick up these items in allston , ma between 7 : 00 pm and 8 : 00 pm this evening ( 1 / 12 / 2019 ).</td>\n",
       "      <td>50.0</td>\n",
       "    </tr>\n",
       "    <tr>\n",
       "      <th>1412060808958955</th>\n",
       "      <td>2 8oz cans of enfamil one is gentle easy . 6 2oz pre made fluid oz bottles of enfamil neuro pro baby formula . $ 535 worth of different gift cards . and $ 100 in enfamil coupons . perfect for expecting mothers or gift for expecting mothers . unfortunately we couldn ' t use them . we already activated the gift card before the bad news so act fast . i hope a good mom could use these since i can ' t</td>\n",
       "      <td>250.0</td>\n",
       "    </tr>\n",
       "    <tr>\n",
       "      <th>1412060798958956</th>\n",
       "      <td>computer table very sturdy and durable moving sale pickup only</td>\n",
       "      <td>40.0</td>\n",
       "    </tr>\n",
       "    <tr>\n",
       "      <th>1411893822308987</th>\n",
       "      <td>twin set 109 full set 150 queen set 175 momo discount furniture 1012 gorham street lowell ma 9783234440</td>\n",
       "      <td>109.0</td>\n",
       "    </tr>\n",
       "    <tr>\n",
       "      <th>1411792508985785</th>\n",
       "      <td></td>\n",
       "      <td>50.0</td>\n",
       "    </tr>\n",
       "  </tbody>\n",
       "</table>\n",
       "<p>367 rows × 2 columns</p>\n",
       "</div>"
      ],
      "text/plain": [
       "                                                                                                                                                                                                                                                                                                                                                                                                                                                                                                                                                                                                                                                                                                                                                                                                                                                                                                                                                                                                                                                     text  \\\n",
       "_id                                                                                                                                                                                                                                                                                                                                                                                                                                                                                                                                                                                                                                                                                                                                                                                                                                                                                                                                                                                                                                                         \n",
       "1479867442147193                                                                                                                                                                                                                                                                                                                                                                                                                                                                                                                                                                                                                                                                                                                                                                      hi all ! iso studio / 1 br apt / or private room to rent through june . preference to n . of boston / merrimack valley . parking needed . no pets / smoking / etc . under $ 1k / month but may be flexible for the right fit . serious inquiries only . thank you !   \n",
       "1481460888654515                                                                        seeking female to fill a room in a beautiful 3 bedroom apartment in the heart of jamaica plain , starting february 1st . either in grad school or a working professional . clean quiet , easygoing , nice , no smoking in the apartment . you would be living with two other women . i ' m leaving because of work . on one end of the block is jamaica pond , at the other is centre street / downtown jamaica plain , which has tons of cute and convenient shops . 10 minute walk from the orange line , 2 minute walk from the 39 bus line that goes straight into the heart of boston . washer and dryer in the unit . storage space in the basement . massive backyard . shared parking spot and ample street parking , especially in the evening . broker requests a fee of $ 350 for background checks and credit checks , as well as for creating the lease . also , $ 1000 security deposit . we look forward to meeting you ! message me for details .   \n",
       "1478940472239890                                                                                                                                                                                                                                                                                                                                                                                                                                                                                                                                                                                                                                                                                                                                                                room available for sublet in jamaica plain january 8 - 14 ! full size bed , small room but large common space . 5 minute walk from the orange line . roommates are musicians . $ 200 for the week , or we can negotiate for partial stay . dm me if you ’ re interested !   \n",
       "1478469722286965                                                                                                                                                                                                                                                                                                                                                                                                                                                                                                                                                                                                                                                                                                                                                                                                                  anyone looking for parking ? got a deeded parking space available in oak square for about $ 100 a month ( or $ 1 , 100 a year if paid up front ). close to i - 90 and roads leading to the metrowest . pm for details .   \n",
       "1488421641291773                                                                                                                                                                                                                                                                                                                                                                                                                                                                                                                                                                                                                                                                                                                                                                                                                                                                                 located in roxbury . selling bed frame , mattress , and dresser for only $ 250 . in great conditions , looks brand new ! please dm for serious inquiries   \n",
       "1489727054494565                                                                                                                                                                                                                                                                                                                                                                                                                                                                                                                                                                                       the spacious room for feb 1 . it ’ s large sunny room . 1 min to bus 15 / 18 , convenient to northeastern university area . 4 min to bus 215 , easy to quincy college . 4 min to red line t station , convenient to u mass , south station , downtown of boston , mgh / mit .... no smoking , no drugs , no drunk , no pet or loud music . add $ 100 for couple . looking for clean , quiet and responsible roommates massage me if u interest !!!   \n",
       "1489208854546385                                                                                                                                      looking for someone to take over my lease from february or march 2019 , with possibility to renew in september ( to be negotiated directly with the landlord ). very spacious 1 bedroom , with high ceilings , laundry in unit , electric stove , garbage disposal , and dishwasher . the apartment is an in - law suit separate from the landlord ' s main single home with off street parking . there are no upstairs or downstairs neighbors . no pets . no smoking . the area is very quiet , surrounded by green . it can be a great place for a couple . five minutes walk from the arlington reservoir and whipple hill . i love this apartment , but i need to move into the city to be closer to my job . landlord requires deposit , first and last month , a photo copy of drivers license , and 3 months worth of pay stub . application is $ 39 . 99 for background and credit check .   \n",
       "1489882064479064                                                                                                                                                                                                                                                                                                                                                                                                                                                                                                                                                                                       posting again 1br in a 2br apartment available for feb 1st 20 minute walk to davis ( red line ) 5 minute bus ride to davis which is right down the street easy commute to 95 $ 1200 a month but somewhat negotiable roommate is a female in her 20s who works in boston storage and laundry in the basement , everything in the kitchen is updated , balcony , parking spot is possible it ’ s a great apartment , can be furnished or unfurnished   \n",
       "1489214327879171  no fee , cleaning service and all utilities included , close to the t hi all , i ' m looking to fill my room in a newly refurbished ( 2018 ) 4 bed , 2 bath on auckland street ( between savin hill ave and bay street ) in savin hill . i ' m moving in with my partner , so no fee ! you only have to submit a rental application . features : - less than 5 minute walk to savin hill t stop - all utilities included in rent and managed by landlord ( electric , gas , heat , hot water , internet ) - monthly cleaning service included in rent for all common areas ( kitchen , living room , both bathrooms ) - dish washer , in - building washer / dryer , all stainless steel appliances - furnished living room including common area television - back porch , off - street parking available for $ 100 / month - grocery store , drug store , gym , and restaurants all less than 5 minute walk - landlord is responsive and thoughtful roommates : - 20s / 30s professionals and all great guys working in finance an...   \n",
       "1489297874537483                                                                                                                                                                                                                                                                                                                                                                                                                                                                                                                                                                                                                                                                                                                                                             for your new apartment affordable bed available : twin bed - $ 40 chestnut hill , ma twin bed for sale for $ 40 including frame , slats , and mattress . very comfortable and sturdy , in good condition . buyer has to arrange for transportation . please pm for details .   \n",
       "1489172767883327  hi everyone ! i have a strange request for the boston community - does anyone have a driveway they would be able to rent to me so i can live in my tiny camper on it ? the camper is 13 ft x 10 ft . i would need one normal plug for electricity and some form of running water every once in a while to fill the tank . i would also need access to a shower . i have my own kitchen , sink , and small toilet . preferred location is quincy but anywhere within fifteen - twenty minute drive will also work . i have a dog so if there is a yard , that would be great but we can do without . i ' m working full time and have very long work days so i won ' t be around very often except to sleep or on my days off . looking to spend around $ 200 - 300 / month so this is a great opportunity for someone looking to make a bit of extra money without having to do very much ! i would also be willing to trade service ( yard work , house work , etc .) if that is more important than some extra money . if you know...   \n",
       "1488683457932258                                                                                                                                                                                                                                                                                                                                                                                                                                                                                                                                                                                                                                         hi , i ' m moving out of state in a few weeks and i need to sell all of my furniture . all the ikea furniture i ' ve used for just a few months . the grey dresser and night stand are a few years old . here is the list and prices : shoe rack ( ikea ) $ 10 tv stand ( ikea ) $ 50 2 chairs ( ikea ) free bookcase ( ikea ) $ 15 dresser ( non - ikea ) $ 300 night stand ( non - ikea ) $ 50   \n",
       "1488421564625114                                                                                                                                                                                                                                                                                                                                                                                                                                                                                                                                                                                                                                                                                                                                                                                                                                                                                 located in roxbury . selling bed frame , mattress , and dresser for only $ 250 . in great conditions , looks brand new ! please dm for serious inquiries   \n",
       "1487013188099285                                                                                                                                                                                                                                                                                                                                                                                                                                                                                                                                                                                                                                                      we can provide you with exceptional cleaning services for an affordable price that fits your budget . * hourly pricing : -$ 80 for 2 hours -$ 110 for for 4 hours * pricing per room : -$ 25 for 1 room -$ 40 for 2 rooms -$ 45 for 3 rooms -$ 45 for flooring only -$ 55 for kitchen and bathrooms call or message to schedule services : ( 857 ) 312 - 6993 or ( 857 ) 762 - 9467   \n",
       "1486954408105163                                                                                                                                                                                                                                                                                                                                                                                                                                                                                                                                                                                                                                                      we can provide you with exceptional cleaning services for an affordable price that fits your budget . * hourly pricing : -$ 80 for 2 hours -$ 110 for for 4 hours * pricing per room : -$ 25 for 1 room -$ 40 for 2 rooms -$ 45 for 3 rooms -$ 45 for flooring only -$ 55 for kitchen and bathrooms call or message to schedule services : ( 857 ) 312 - 6993 or ( 857 ) 762 - 9467   \n",
       "1485520431581894                                                                                                                                                                                                                                                                                                                                                                                                                                                                                                                                                                                                                                                                                                                                                                                                   newton 近绿线d 地铁站房间出租从2 ⃣️🈷️ 份开始 ， 全美最安全的区之一 ， 步行2 ⃣️ 分钟到地铁站 ， 5 ⃣️ 分钟内各种风味美食 ， 邮局银行 ， 24小时7 / 11 ， 2 ⃣️ 人共用一卫浴间 ， 安静卫生 ， 家具齐全高速上网洗衣服免费 ， 杂费全包拎包入住 ， 去bc 、 lasell , hebrew , 音樂學院大学非常近 ， 绿线d地铁方便出行 ， 有須要的請短信或電話917 - 375 - 9577陳先生謝謝大家 🤗   \n",
       "1484751311658806                                                                                                                                                                                                                                                hi everyone my current lease ends on jan 5th . been here a year and half . sick of living in the community type setting . currently at 14 north in peabody ma it ’ s really nice here just not for me anymore since they hiked the prices way up over 2k . looking for a one bedroom and with a yard would be ideal . not looking to rent a room or share . northshore area . 6 - 12 months until i buy a house . great references , no evictions etc . quiet , clean , in my late 20s , no arrest records etc . what ’ s out there for around 2k and under ? looking to move in this month sooner the better . open to all options but prefers a nice apartment , in - law apartment etc . but post any leads you have . will pay whoever finds me the spot i choose $ 100 finders fee .   \n",
       "1484771061656831                                                                                                                                                                                                                                                                                                                                                                                                                                                                                                                                                                                                                                                                                                                                                                                                                                                                                                                             hi this isn ’ t regarding apartments but selling 2 snoop dog tix for tomorrow 1 / 4 at the grand $ 35 each !   \n",
       "1490726114394659        hi ! we have a spot opening up in a 2400 sq ft 4 bedroom 2 bath apartment in brookline for february 1st . it ' s close to the # 60 bus that takes you to longwood and a 7 min walk to brookline hills t stop . the room is on the smaller size so the rent is lowered , but can fit a queen size bed with some wiggle room or a full . it ' s definitely workable ! tons of storage space in the apartment with an all weather porch . current roommates are 3 female working professions in their mid 20s . we are open any ethnic background or gender identity . we are looking for someone respectful , clean and able to pay their bills on time . laundry in unit and heat and hot water included . rent is 775 without utilities included ( electricity and cable / internet ~ 70 a month ) brookline has a weird strict banned overnight parking policy so renting an extra spot would be $ 200 a month looking for someone to stay until the end of august with the possibility of renewing ! please dm if interested !!   \n",
       "1489891337811470                                                                                                                                                                                                                                                                                                                                                                                                                                                                                                                                                                                                                                                                                                                                                                                                                                                                hi , i ' m looking for a br for a couple and a small / silent cat from 2 / 1 until 5 / 5 ( 3 months ).. flexible location , but close to subway . max $ 1 . 000 / month .   \n",
       "1832433706866489                                                                                                                                                                                                                                                                                                                                                                                                                                                                                                                                                                                                                                                                                                                                                                                                                               we will cleaning you house . 1000 sq . ft . for $ 75 dollars . 2000 sq . ft . for $ 90 dollars , up until 4000 sq . ft . for $ 130 dollars . promotion for new clients . thanks very much . inbox please .   \n",
       "1830964547013405                                                                                                                                                                                                                                                                                                                                                                                                                                                                                                                                                                                                                                                                                                                                                                                                                                                                                       price negotiable ; needs to be picked up from westland avenue apartment ( next to northeastern university ) asap ; other free items also available   \n",
       "1830602430382950                                                                                                                                                                                                                                                                                                                                                                                                                                                                                                                                                                                                                                                                                                                                                                                                                                                                                                                                                                            beautiful giant mirror in gold portrait frame . 8 ft x 5 ft .   \n",
       "1829603720482821                                                                                                                                                                                                                                                                                                                                                                                                                                                                                                                                                                                                                                                                                                                                                                                        i ´ m 22 years old , student of biotechnology engineering . i ´ m looking for a room from january to july . because i ´ ll be doing a research internship at harvard medical school . me and my friend are looking for a room that we can share .   \n",
       "1824496587660201                                                                                                                                                                                                                                                                                                                                                                                                                                                                                                                                                                                                                                                                                                                                                                                                                                                                    hi , brand new and never worn pink colored \" its our time \" top . just $ 25 including international shipping . please message me on fb for further details . thanks .   \n",
       "1844203992356127                                                                                                                                                                                                                                                                                                                                                                                                                                                                                                                                                                                                                                                                                                                                                                                                                                                                                                       all star cash for car is now accepting scrap vehicles call or text 401 - 771 - 7383 see what ur scrap vehicle is worth today $$$$$   \n",
       "1843169915792868                                                                                                                                                                                                                                                                                                                                                                                                                                                                                                                                                                                                                                                                                                                                               hey guys ! i ' m a junior at a university in indiana . i would be interning at a company in boston this summer . therefore i am looking for a room between $ 350 - 450 / month . open to share the room / or make adjustments accordingly my internship dates are : 28th may - 16th august   \n",
       "1842116782564848                                                                                                                                                                                                                                                                                                                                                                                                                                                                                                                                                                                                                                                                                                                                                                                                                                                                                                                                                                               three shelf , stainless steel , glass cased , pizza warmer   \n",
       "1840618836047976                                                                                                                                                                                                                                                                                                                                                                                                                                                                                                                                                                                                                                                                                                                                                                                                                                      looking , on behalf of friend , for a 1 bedroom apartment to rent during january . has to be on the first floor and preferably in cambridge . please let me know if you know anyone sub - letting .   \n",
       "1840881986021661                                                                                                                                                                                                                                                                                                                                                                                                                                                                                                                                                                                                                                                                                                                                                                                                                                                                                                                                                                                 pick up please cash 30 gallon , 2 . 0 hp motor , 135 max   \n",
       "...                                                                                                                                                                                                                                                                                                                                                                                                                                                                                                                                                                                                                                                                                                                                                                                                                                                                                                                                                                                                                                                   ...   \n",
       "1411280209037015                                                                                                                                                                                                                                                                                                                                                      listen , read , jkr has the best offer for you 1 ) we give you estimate absolutely free 2 ) if you send us a text and make your appointment you receive 25 % off in all your cleanings 3 ) if you recommend your family , friend or any other person if you make your cleaning appointment you receive an extra 15 % off in your next cleaning , search us on facebook , send us a text or an email and your appointment is now fully guaranteed , we are professionals at your service do not wait any longer .... .... jkr cleaning services .. your best option .. http :// ecoingsv . wixsite . com / jkrcleaningservices https :// www . facebook . com / jkrcleaningservice /   \n",
       "1410843112414058                                                                                                                                                                                                                                                                                                                                                                                                                                                                                                                                                                                                                                                                                                                                                                                                                                                                                                                                                                                          brand new - rattan chairs with ottoman and tray   \n",
       "1393346124163757                                                                                                                                                                                                                                                                                                                                                                                                                                                                                                                                                                                                                                                                                                                                                                                                                                                                                                                                                                                                                                            \n",
       "1393346117497091                                                                                                                                                                                                                                                                                                                                                                                                                                                                                                                                                                                                                                                                                                                                                                                                                                                            all frames sizes 4 × 6 , 5 × 7 , 8x 10 in great cond . some brand new . small frames $ 4 , med $ 5 , large $ 6 . better prices if you buy more . lamp with desk organizer $ 6   \n",
       "1393345987497104                                                                                                                                                                                                                                                                                                                                                                                                                                                                                                                                                                                                                                                                                                                                                                                                                                                                                                                                                                                                                   youth hockey equipment   \n",
       "1393345947497108                                                                                                                                                                                                                                                                                                                                                                                                                                                                                                                                                                                                                                                                                                                                                                                                                                                                                                                                                                                                                                            \n",
       "1393345907497112                                                                                                                                                                                                                                                                                                                                                                                                                                                                                                                                                                                                                                                                                                                                                                                                                                                                                                                                                    home depot gift card ... it has $ 100 . 00 on the gift card ... selling for $ 85 . 00   \n",
       "1393297634168606                                                                                                                                                                                                                                                                                                                                                                                                                                                                                                                                                                                                                                                                                                                                                                                                                                                                                                                                  twin set 109 full set 150 queen set 175 momo discount furniture 1012 gorham street lowell ma 9783234440   \n",
       "1392565357575167                                                                                                                                                                                                                                                                                                                                                                                                                                                                                                               have you thought about fixing those stairs , no safe for winter ? or even make that walkway to get to your garage ? come and consult us , we have a free estimate to give you . we also reformed their kitchen or bathroom , we changed their tile and made painting of the bedroom , living room . masonry services best price - free estimate - special conditions for december walk way , patio , ston wall , concrete , stairs , block wall , chimney , wood steps , fence , brick wall + 1 ( 508 ) 991 - 0305 - edson   \n",
       "1392491737582529                                                                                                                                                                                                                                                                                                                                                                                                                                                                                                                                                                                                                                                                                                                                                                                                                                                                                                                                  twin set 109 full set 150 queen set 175 momo discount furniture 1012 gorham street lowell ma 9783234440   \n",
       "1392292994269070                                                                                                                                                                                                                                                                                                                                                                                                                                                                                                                                                                                                                                                                                                                                                                                                                                                                    hi , brand new and never worn pink colored \" its our time \" top . just $ 25 including international shipping . please message me on fb for further details . thanks .   \n",
       "1392061514292218                                                                                                                                                                                                                                                                                                                                                                                                                                                                                                                                                                                          house cleaning for $ 120 4 hours of deep cleaning 1 person for $ 120 schedule a day by text message or email phone : ( 857 ) 243 - 5831 email : [ hidden information ] i know it ' s unbelievable , but we guarantee your satisfaction . schedule your cleaning . only for first time customers . limit 1 per person . all services must be redeemed for the same family . the value is for a cleaning . for household cleaning services only .   \n",
       "1392049017626801                                                                                                                                                                                                                                                                                                                                                                                                                                                                                                                                                                                                                                                                                                                                                                                          hacemos mudanzas en todo massachusett pequeñas y grandes mudanzas también movemos muebles camas etc de las tiendas we make moves in all massachusett and move small and large furniture stores contáctenos inbox o puede llamar al 617 669 0144   \n",
       "1391949757636727                                                                                                                                                                                                                  gran oferta directv paquete óptimo más te ofrece desde 35 $ para un solo tv 255 canales en hd en ambos idiomas ( español e inglés ). sin depósito . 3 meses gratis de peliculas y series premiun instalación totalmente gratuita gift card de regalo visa de 100 $ caja grabadora . además en conjunto te ofrecemos internet con at & t por tan solo 40 $ al mes . no te pierdas de esta gran oferta , contáctame ya !. great offer directv select package it offers you from $ 35 for a single tv 155 channels in hd in both languages ( spanish and english ). no deposit . 3 free months of premiun films and series installation totally free gift card $ 100 visa gift recorder box . also together we offer internet with at & t for only $ 40 per month . do not miss out on this great offer , contact me now !   \n",
       "1391902107641492                                                                                                                                                                                                                                                                                                                                                                                                                                                                                                                                                                                                                                                                                                                              accommodation available in hall for 1 female in a spacious hall with closet . utilities ( internet , gas , electricity ) will cost another 40 $ approximately . apartment 1 min walk distance to washington street ( green line ) t stop . move - n flexible dec / jan . dm for pictures and more details .   \n",
       "1391530561011980                                                                                                                                                                                                                                                                                                                                                                                                                                                                                                                                                                                                                                                                                                                                                                                                                                                                                                                                                                 good condition ... keurig k70 keurig k70 platinum -------- works great ,   \n",
       "1391529874345382                                                                                                                                                                                                                                                                                                                                                                                                                                                                                                                                                                                                                                                                                                                                                                                                                                                                                                                                                                                                     good condition microwave works great   \n",
       "1391352561029780                                                                                                                                                                                                                                                                                                                                                                                                                                                                                                                                                                                                                                                                                                                                                                                                                                                                                                                                                                                                                                            \n",
       "1391347004363669                                                                                                                                                                                                                                                                                                                                                                                                                                                                                                                                                                                                                                                                                                                                                                                                                                                                                                                                  twin set 109 full set 150 queen set 175 momo discount furniture 1012 gorham street lowell ma 9783234440   \n",
       "1391173234381046                                                                                                                                                                                                                                                                                                                                                                                                                                                                                                                                                                                                                                                                                                                                                                                                                                                                                                                                                                                                                  geladeira funciona tudo   \n",
       "1390981484400221                                                                                                                                                                                                                                                                                                                                                                                                                                                                                                                                                                                                                                                                                                                                                                                                                                                                                                                                                                                                                   used in good condition   \n",
       "1390804551084581                                                                                                                                                                                                                                                                                                                                                                                                                                                                                                                                                                                                                                                                                                                                                                                                                                                                                                    312 main street medford aberto de segunda a sábado das 9 da manhã às 8 da noite e domingos das 9 da manhã às 3 da tarde léo e toninho   \n",
       "1390757107755992                                                                                                                                                                                                                                                                                                                                                    temporary accommodation available for 1 boy from 20th december 2018 to 3rd january 2019 - location : 1114 commonwealth avenue , allston - it is a 2 bed apartment with a spacious living area and a balcony . - the apartment is very close to bank of america , tj max , star market , target . - 5 to 10 minutes walk to boston university - takes roughly 25 minutes to reach northeastern university by green t line . - within the radius of the red eye shuttle - laundry in the basement of adjacent apartment ’ s basement . - bed and mattress available . - rent : $ 16 ( inclusive of heat and hot water ) + additional ( gas , electricity and wifi ) pm for more details   \n",
       "1390538304444539                                                                                                                                                                                                                                                                                                                                                                                                                                                                                                                                                                                                                                                                                                                                                                                                                                                                                                                                  twin set 109 full set 150 queen set 175 momo discount furniture 1012 gorham street lowell ma 9783234440   \n",
       "1411959938969042                                                                                                                                                                                                                                                                                                                       get matches with roommates for next year ! the best properties in boston are already on the market , and if you ' re looking to get a great location , high quality amenities , and decent price , you ' re probably already looking for roommates . contact me directly , and i can match you with roommates for the location , budget , and move in date that you would like . we have studios , 1 beds , all the way up to 12 - bedroom apartments . the average price per bedroom is about $ 900 / month we have everything in the greater boston area - allston , brighton , brookline , cambridge , medford , somerville , south boston , dorchester , jamaica plain , south end , mission hill , symphony .   \n",
       "1412137608951275                                                                                                                                                                                                                                                                                                                                                                                                                                                                                                                                                                                                                                                                                                                                                                                                                  $ 45 ikea bedframe with a mattress included . $ 20 ikea desk + desk chair ( can be sold separately ). pm me to come pick up these items in allston , ma between 7 : 00 pm and 8 : 00 pm this evening ( 1 / 12 / 2019 ).   \n",
       "1412060808958955                                                                                                                                                                                                                                                                                                                                                                                                                                                                                                                                                                                                                          2 8oz cans of enfamil one is gentle easy . 6 2oz pre made fluid oz bottles of enfamil neuro pro baby formula . $ 535 worth of different gift cards . and $ 100 in enfamil coupons . perfect for expecting mothers or gift for expecting mothers . unfortunately we couldn ' t use them . we already activated the gift card before the bad news so act fast . i hope a good mom could use these since i can ' t   \n",
       "1412060798958956                                                                                                                                                                                                                                                                                                                                                                                                                                                                                                                                                                                                                                                                                                                                                                                                                                                                                                                                                                           computer table very sturdy and durable moving sale pickup only   \n",
       "1411893822308987                                                                                                                                                                                                                                                                                                                                                                                                                                                                                                                                                                                                                                                                                                                                                                                                                                                                                                                                  twin set 109 full set 150 queen set 175 momo discount furniture 1012 gorham street lowell ma 9783234440   \n",
       "1411792508985785                                                                                                                                                                                                                                                                                                                                                                                                                                                                                                                                                                                                                                                                                                                                                                                                                                                                                                                                                                                                                                            \n",
       "\n",
       "                  price  \n",
       "_id                      \n",
       "1479867442147193    1.0  \n",
       "1481460888654515  350.0  \n",
       "1478940472239890  200.0  \n",
       "1478469722286965  100.0  \n",
       "1488421641291773  250.0  \n",
       "1489727054494565  100.0  \n",
       "1489208854546385   39.0  \n",
       "1489882064479064   95.0  \n",
       "1489214327879171  100.0  \n",
       "1489297874537483   40.0  \n",
       "1489172767883327  200.0  \n",
       "1488683457932258   50.0  \n",
       "1488421564625114  250.0  \n",
       "1487013188099285   80.0  \n",
       "1486954408105163   80.0  \n",
       "1485520431581894    9.0  \n",
       "1484751311658806  100.0  \n",
       "1484771061656831   35.0  \n",
       "1490726114394659  200.0  \n",
       "1489891337811470    1.0  \n",
       "1832433706866489    1.0  \n",
       "1830964547013405  150.0  \n",
       "1830602430382950  200.0  \n",
       "1829603720482821    1.0  \n",
       "1824496587660201   25.0  \n",
       "1844203992356127  250.0  \n",
       "1843169915792868  350.0  \n",
       "1842116782564848  100.0  \n",
       "1840618836047976    1.0  \n",
       "1840881986021661  235.0  \n",
       "...                 ...  \n",
       "1411280209037015    1.0  \n",
       "1410843112414058  120.0  \n",
       "1393346124163757    1.0  \n",
       "1393346117497091  123.0  \n",
       "1393345987497104  120.0  \n",
       "1393345947497108  150.0  \n",
       "1393345907497112   85.0  \n",
       "1393297634168606  109.0  \n",
       "1392565357575167    2.0  \n",
       "1392491737582529  109.0  \n",
       "1392292994269070   25.0  \n",
       "1392061514292218  120.0  \n",
       "1392049017626801    1.0  \n",
       "1391949757636727   75.0  \n",
       "1391902107641492  375.0  \n",
       "1391530561011980   49.0  \n",
       "1391529874345382   45.0  \n",
       "1391352561029780   60.0  \n",
       "1391347004363669  109.0  \n",
       "1391173234381046  130.0  \n",
       "1390981484400221   15.0  \n",
       "1390804551084581   25.0  \n",
       "1390757107755992   16.0  \n",
       "1390538304444539  109.0  \n",
       "1411959938969042    1.0  \n",
       "1412137608951275   50.0  \n",
       "1412060808958955  250.0  \n",
       "1412060798958956   40.0  \n",
       "1411893822308987  109.0  \n",
       "1411792508985785   50.0  \n",
       "\n",
       "[367 rows x 2 columns]"
      ]
     },
     "execution_count": 34,
     "metadata": {},
     "output_type": "execute_result"
    }
   ],
   "source": [
    "df[(df.price < 400)][['text', 'price']]"
   ]
  },
  {
   "cell_type": "code",
   "execution_count": 35,
   "metadata": {},
   "outputs": [],
   "source": [
    "df = df[(df.price > 400)&(df.price < 8500)]"
   ]
  },
  {
   "cell_type": "code",
   "execution_count": 36,
   "metadata": {},
   "outputs": [],
   "source": [
    "df.reset_index(inplace=True)\n",
    "df.to_feather(DATA_PATH + 'housing_with_prices')"
   ]
  }
 ],
 "metadata": {
  "kernelspec": {
   "display_name": "Python 3",
   "language": "python",
   "name": "python3"
  },
  "language_info": {
   "codemirror_mode": {
    "name": "ipython",
    "version": 3
   },
   "file_extension": ".py",
   "mimetype": "text/x-python",
   "name": "python",
   "nbconvert_exporter": "python",
   "pygments_lexer": "ipython3",
   "version": "3.6.6"
  }
 },
 "nbformat": 4,
 "nbformat_minor": 2
}
